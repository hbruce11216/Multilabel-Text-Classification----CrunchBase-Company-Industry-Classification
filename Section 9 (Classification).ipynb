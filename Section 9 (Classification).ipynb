{
 "cells": [
  {
   "cell_type": "code",
   "execution_count": 1,
   "id": "cef0703b",
   "metadata": {},
   "outputs": [
    {
     "data": {
      "text/html": [
       "<style>.container { width:100% !important; }</style>"
      ],
      "text/plain": [
       "<IPython.core.display.HTML object>"
      ]
     },
     "metadata": {},
     "output_type": "display_data"
    }
   ],
   "source": [
    "# Change width of Jupyter notebook\n",
    "from IPython.core.display import display, HTML\n",
    "display(HTML(\"<style>.container { width:100% !important; }</style>\"))"
   ]
  },
  {
   "cell_type": "code",
   "execution_count": 2,
   "id": "19cd483e",
   "metadata": {},
   "outputs": [],
   "source": [
    "import pandas as pd\n",
    "import numpy as np\n",
    "from numpy import log2 as log\n",
    "from numpy import exp2 as exp\n",
    "from numpy.random import randint"
   ]
  },
  {
   "cell_type": "markdown",
   "id": "31aaec2a",
   "metadata": {},
   "source": [
    "# Section 9: Classification with Naive Bayes\n",
    "This draws from the Module 12 notebooks and much from my own research and reading. I read countless Medium articles and several academic papers where I tried to implement some approaches to multiclass classification with text data. Frankly, much of it was over my head. \n",
    "\n",
    "DS5001 gave me an appreciation for exploring text data but because the class focused on unsupervised approaches, I do not feel comfortable with the supervised side of things. I learned a lot through the process of researching and implementing for this project but there are still some severe limitations on my ability to interact with this problem. \n",
    "\n",
    "The two biggest resources I utilized were Towards Data Science articles (huge shoutout to Susan Li) and the Google Developers documents on Keras."
   ]
  },
  {
   "cell_type": "code",
   "execution_count": 3,
   "id": "e84a109f",
   "metadata": {},
   "outputs": [],
   "source": [
    "df = pd.read_csv(\"2_df.csv\").rename(columns={\"Unnamed: 0\":'company_num'})\n",
    "OHCO = ['industry_num','company_num','sent_num','token_num']\n",
    "VOCAB = pd.read_csv('VOCAB2.csv').rename(columns={\"term_id\":'token_num'}).set_index(OHCO[3])\n",
    "LIB = pd.read_csv(\"LIB.csv\").set_index(OHCO[1])\n",
    "TOKEN = pd.read_csv('TOKEN2.csv').rename(columns={\"Unnamed: 3\":'token_num'}).set_index(OHCO)\n",
    "TFIDF = pd.read_csv(\"TFIDF2.csv\").set_index(\"industry_num\")\n",
    "DTCM = pd.read_csv(\"DTCM.csv\").set_index(\"industry_num\")\n",
    "BOW = pd.read_csv(\"DOC2.csv\")\n",
    "SIGS = pd.read_csv(\"SIGS.csv\")\n",
    "WCM = pd.read_csv(\"WCM.csv\")\n",
    "tokens = pd.read_csv(\"3tokens.csv\").set_index(OHCO)\n",
    "sentences = pd.read_csv(\"3sentences.csv\").set_index(OHCO[:3])\n",
    "company_desc = pd.read_csv(\"3company_desc.csv\").set_index(OHCO[:2])\n",
    "industry_agg_desc = pd.read_csv(\"3industry_agg_desc.csv\").set_index(OHCO[:1])"
   ]
  },
  {
   "cell_type": "markdown",
   "id": "8ca8ce46",
   "metadata": {},
   "source": [
    "### Naive Bayes Classifier"
   ]
  },
  {
   "cell_type": "code",
   "execution_count": 4,
   "id": "e00d4047",
   "metadata": {},
   "outputs": [],
   "source": [
    "df9 = company_desc.drop('desc_len',1).join(LIB[\"Industry_Index\"], on='company_num', how='inner')\n",
    "df9 = df9.rename(columns={\"Industry_Index\":\"ind\"})"
   ]
  },
  {
   "cell_type": "code",
   "execution_count": 9,
   "id": "8e2ce1ed",
   "metadata": {},
   "outputs": [
    {
     "data": {
      "text/plain": [
       "(12031, 17327)"
      ]
     },
     "execution_count": 9,
     "metadata": {},
     "output_type": "execute_result"
    }
   ],
   "source": [
    "from sklearn.feature_extraction.text import TfidfVectorizer\n",
    "\n",
    "tfidf = TfidfVectorizer(sublinear_tf=True, min_df=5, norm='l2', encoding='latin-1', ngram_range=(1, 2), stop_words='english')\n",
    "\n",
    "features = tfidf.fit_transform(df9.content).toarray()\n",
    "labels = df9.ind\n",
    "\n",
    "features.shape"
   ]
  },
  {
   "cell_type": "code",
   "execution_count": 11,
   "id": "124059cd",
   "metadata": {},
   "outputs": [],
   "source": [
    "# make a copy of the Industries column and save it to the company_industry variable\n",
    "company_industry = df.loc[:,'Industry Groups'].copy()\n",
    "\n",
    "# turn that object into a pandas dataframe\n",
    "company_industry = pd.DataFrame(company_industry)\n",
    "\n",
    "unique_inds = company_industry.copy()\n",
    "\n",
    "# https://stackoverflow.com/questions/38088652/pandas-convert-categories-to-numbers\n",
    "# change column to categorical\n",
    "unique_inds['Industry Groups'] = pd.Categorical(unique_inds['Industry Groups'])\n",
    "\n",
    "# now convert to codes and save down as new column\n",
    "unique_inds['code'] = unique_inds['Industry Groups'].cat.codes\n",
    "unique_inds = unique_inds.reset_index(drop=True)"
   ]
  },
  {
   "cell_type": "code",
   "execution_count": 12,
   "id": "019002e1",
   "metadata": {},
   "outputs": [],
   "source": [
    "y = pd.get_dummies(company_industry['Industry Groups']).values\n",
    "X = features.copy()"
   ]
  },
  {
   "cell_type": "code",
   "execution_count": 13,
   "id": "0b84eb7b",
   "metadata": {},
   "outputs": [],
   "source": [
    "from sklearn.model_selection import train_test_split\n",
    "from sklearn.feature_extraction.text import CountVectorizer\n",
    "from sklearn.feature_extraction.text import TfidfTransformer\n",
    "from sklearn.naive_bayes import MultinomialNB\n",
    "\n",
    "X_train, X_test, y_train, y_test = train_test_split(df9['content'], df9['ind'], random_state = 0)\n",
    "count_vect = CountVectorizer()\n",
    "\n",
    "X_train_counts = count_vect.fit_transform(X_train)\n",
    "\n",
    "tfidf_transformer = TfidfTransformer()\n",
    "\n",
    "X_train_tfidf = tfidf_transformer.fit_transform(X_train_counts)\n",
    "\n",
    "clf = MultinomialNB().fit(X_train_tfidf, y_train)"
   ]
  },
  {
   "cell_type": "code",
   "execution_count": 14,
   "id": "0d0ef1d7",
   "metadata": {},
   "outputs": [
    {
     "name": "stdout",
     "output_type": "stream",
     "text": [
      "[16]\n"
     ]
    }
   ],
   "source": [
    "print(clf.predict(count_vect.transform([\"ChiliSleep is a sleep technology brand focused on the future of sleep-driven health.\"])))"
   ]
  },
  {
   "cell_type": "code",
   "execution_count": 15,
   "id": "293787ff",
   "metadata": {},
   "outputs": [
    {
     "name": "stdout",
     "output_type": "stream",
     "text": [
      "[16]\n"
     ]
    }
   ],
   "source": [
    "print(clf.predict(count_vect.transform([\"It offers on-demand healthcare for people of all ages in the comfort of their own home.\"])))"
   ]
  },
  {
   "cell_type": "code",
   "execution_count": 16,
   "id": "df849062",
   "metadata": {},
   "outputs": [
    {
     "name": "stdout",
     "output_type": "stream",
     "text": [
      "[16]\n"
     ]
    }
   ],
   "source": [
    "print(clf.predict(count_vect.transform([\"8base is a cloud-based platform where front-end developers can build and run enterprise-class web and mobile apps powered by GraphQL.\"])))"
   ]
  },
  {
   "cell_type": "markdown",
   "id": "32222066",
   "metadata": {},
   "source": [
    "This is the problem with working with unbalanced datasets. Industry_Index==16 is by far the most dominant (see bar chart below), which means that the Naive Bays Classifier was trained more on that than on anything else, ultimately weighting things more as if they were part of Industry_Index==16 than any other industry classification."
   ]
  },
  {
   "cell_type": "code",
   "execution_count": 17,
   "id": "0a5d75ca",
   "metadata": {},
   "outputs": [
    {
     "data": {
      "text/html": [
       "        <script type=\"text/javascript\">\n",
       "        window.PlotlyConfig = {MathJaxConfig: 'local'};\n",
       "        if (window.MathJax) {MathJax.Hub.Config({SVG: {font: \"STIX-Web\"}});}\n",
       "        if (typeof require !== 'undefined') {\n",
       "        require.undef(\"plotly\");\n",
       "        requirejs.config({\n",
       "            paths: {\n",
       "                'plotly': ['https://cdn.plot.ly/plotly-latest.min']\n",
       "            }\n",
       "        });\n",
       "        require(['plotly'], function(Plotly) {\n",
       "            window._Plotly = Plotly;\n",
       "        });\n",
       "        }\n",
       "        </script>\n",
       "        "
      ]
     },
     "metadata": {},
     "output_type": "display_data"
    },
    {
     "data": {
      "application/vnd.plotly.v1+json": {
       "config": {
        "linkText": "Export to plot.ly",
        "plotlyServerURL": "https://plot.ly",
        "showLink": true
       },
       "data": [
        {
         "marker": {
          "color": "rgba(255, 153, 51, 0.6)",
          "line": {
           "color": "rgba(255, 153, 51, 1.0)",
           "width": 1
          }
         },
         "name": "content",
         "orientation": "v",
         "text": "",
         "type": "bar",
         "x": [
          0,
          1,
          2,
          3,
          4,
          5,
          6,
          7,
          8,
          9,
          10,
          11,
          12,
          13,
          14,
          15,
          16,
          17,
          18,
          19,
          20,
          21,
          22,
          23,
          24,
          25,
          26,
          27,
          28,
          29,
          30,
          31,
          32,
          33,
          34,
          35,
          36,
          37,
          38,
          39
         ],
         "y": [
          666,
          101,
          82,
          50,
          82,
          38,
          750,
          206,
          47,
          68,
          160,
          224,
          30,
          1032,
          328,
          161,
          2093,
          941,
          75,
          33,
          364,
          947,
          506,
          288,
          410,
          57,
          23,
          5,
          2,
          392,
          40,
          375,
          220,
          136,
          11,
          271,
          76,
          11,
          555,
          175
         ]
        }
       ],
       "layout": {
        "legend": {
         "bgcolor": "#F5F6F9",
         "font": {
          "color": "#4D5663"
         }
        },
        "paper_bgcolor": "#F5F6F9",
        "plot_bgcolor": "#F5F6F9",
        "template": {
         "data": {
          "bar": [
           {
            "error_x": {
             "color": "#2a3f5f"
            },
            "error_y": {
             "color": "#2a3f5f"
            },
            "marker": {
             "line": {
              "color": "#E5ECF6",
              "width": 0.5
             }
            },
            "type": "bar"
           }
          ],
          "barpolar": [
           {
            "marker": {
             "line": {
              "color": "#E5ECF6",
              "width": 0.5
             }
            },
            "type": "barpolar"
           }
          ],
          "carpet": [
           {
            "aaxis": {
             "endlinecolor": "#2a3f5f",
             "gridcolor": "white",
             "linecolor": "white",
             "minorgridcolor": "white",
             "startlinecolor": "#2a3f5f"
            },
            "baxis": {
             "endlinecolor": "#2a3f5f",
             "gridcolor": "white",
             "linecolor": "white",
             "minorgridcolor": "white",
             "startlinecolor": "#2a3f5f"
            },
            "type": "carpet"
           }
          ],
          "choropleth": [
           {
            "colorbar": {
             "outlinewidth": 0,
             "ticks": ""
            },
            "type": "choropleth"
           }
          ],
          "contour": [
           {
            "colorbar": {
             "outlinewidth": 0,
             "ticks": ""
            },
            "colorscale": [
             [
              0,
              "#0d0887"
             ],
             [
              0.1111111111111111,
              "#46039f"
             ],
             [
              0.2222222222222222,
              "#7201a8"
             ],
             [
              0.3333333333333333,
              "#9c179e"
             ],
             [
              0.4444444444444444,
              "#bd3786"
             ],
             [
              0.5555555555555556,
              "#d8576b"
             ],
             [
              0.6666666666666666,
              "#ed7953"
             ],
             [
              0.7777777777777778,
              "#fb9f3a"
             ],
             [
              0.8888888888888888,
              "#fdca26"
             ],
             [
              1,
              "#f0f921"
             ]
            ],
            "type": "contour"
           }
          ],
          "contourcarpet": [
           {
            "colorbar": {
             "outlinewidth": 0,
             "ticks": ""
            },
            "type": "contourcarpet"
           }
          ],
          "heatmap": [
           {
            "colorbar": {
             "outlinewidth": 0,
             "ticks": ""
            },
            "colorscale": [
             [
              0,
              "#0d0887"
             ],
             [
              0.1111111111111111,
              "#46039f"
             ],
             [
              0.2222222222222222,
              "#7201a8"
             ],
             [
              0.3333333333333333,
              "#9c179e"
             ],
             [
              0.4444444444444444,
              "#bd3786"
             ],
             [
              0.5555555555555556,
              "#d8576b"
             ],
             [
              0.6666666666666666,
              "#ed7953"
             ],
             [
              0.7777777777777778,
              "#fb9f3a"
             ],
             [
              0.8888888888888888,
              "#fdca26"
             ],
             [
              1,
              "#f0f921"
             ]
            ],
            "type": "heatmap"
           }
          ],
          "heatmapgl": [
           {
            "colorbar": {
             "outlinewidth": 0,
             "ticks": ""
            },
            "colorscale": [
             [
              0,
              "#0d0887"
             ],
             [
              0.1111111111111111,
              "#46039f"
             ],
             [
              0.2222222222222222,
              "#7201a8"
             ],
             [
              0.3333333333333333,
              "#9c179e"
             ],
             [
              0.4444444444444444,
              "#bd3786"
             ],
             [
              0.5555555555555556,
              "#d8576b"
             ],
             [
              0.6666666666666666,
              "#ed7953"
             ],
             [
              0.7777777777777778,
              "#fb9f3a"
             ],
             [
              0.8888888888888888,
              "#fdca26"
             ],
             [
              1,
              "#f0f921"
             ]
            ],
            "type": "heatmapgl"
           }
          ],
          "histogram": [
           {
            "marker": {
             "colorbar": {
              "outlinewidth": 0,
              "ticks": ""
             }
            },
            "type": "histogram"
           }
          ],
          "histogram2d": [
           {
            "colorbar": {
             "outlinewidth": 0,
             "ticks": ""
            },
            "colorscale": [
             [
              0,
              "#0d0887"
             ],
             [
              0.1111111111111111,
              "#46039f"
             ],
             [
              0.2222222222222222,
              "#7201a8"
             ],
             [
              0.3333333333333333,
              "#9c179e"
             ],
             [
              0.4444444444444444,
              "#bd3786"
             ],
             [
              0.5555555555555556,
              "#d8576b"
             ],
             [
              0.6666666666666666,
              "#ed7953"
             ],
             [
              0.7777777777777778,
              "#fb9f3a"
             ],
             [
              0.8888888888888888,
              "#fdca26"
             ],
             [
              1,
              "#f0f921"
             ]
            ],
            "type": "histogram2d"
           }
          ],
          "histogram2dcontour": [
           {
            "colorbar": {
             "outlinewidth": 0,
             "ticks": ""
            },
            "colorscale": [
             [
              0,
              "#0d0887"
             ],
             [
              0.1111111111111111,
              "#46039f"
             ],
             [
              0.2222222222222222,
              "#7201a8"
             ],
             [
              0.3333333333333333,
              "#9c179e"
             ],
             [
              0.4444444444444444,
              "#bd3786"
             ],
             [
              0.5555555555555556,
              "#d8576b"
             ],
             [
              0.6666666666666666,
              "#ed7953"
             ],
             [
              0.7777777777777778,
              "#fb9f3a"
             ],
             [
              0.8888888888888888,
              "#fdca26"
             ],
             [
              1,
              "#f0f921"
             ]
            ],
            "type": "histogram2dcontour"
           }
          ],
          "mesh3d": [
           {
            "colorbar": {
             "outlinewidth": 0,
             "ticks": ""
            },
            "type": "mesh3d"
           }
          ],
          "parcoords": [
           {
            "line": {
             "colorbar": {
              "outlinewidth": 0,
              "ticks": ""
             }
            },
            "type": "parcoords"
           }
          ],
          "pie": [
           {
            "automargin": true,
            "type": "pie"
           }
          ],
          "scatter": [
           {
            "marker": {
             "colorbar": {
              "outlinewidth": 0,
              "ticks": ""
             }
            },
            "type": "scatter"
           }
          ],
          "scatter3d": [
           {
            "line": {
             "colorbar": {
              "outlinewidth": 0,
              "ticks": ""
             }
            },
            "marker": {
             "colorbar": {
              "outlinewidth": 0,
              "ticks": ""
             }
            },
            "type": "scatter3d"
           }
          ],
          "scattercarpet": [
           {
            "marker": {
             "colorbar": {
              "outlinewidth": 0,
              "ticks": ""
             }
            },
            "type": "scattercarpet"
           }
          ],
          "scattergeo": [
           {
            "marker": {
             "colorbar": {
              "outlinewidth": 0,
              "ticks": ""
             }
            },
            "type": "scattergeo"
           }
          ],
          "scattergl": [
           {
            "marker": {
             "colorbar": {
              "outlinewidth": 0,
              "ticks": ""
             }
            },
            "type": "scattergl"
           }
          ],
          "scattermapbox": [
           {
            "marker": {
             "colorbar": {
              "outlinewidth": 0,
              "ticks": ""
             }
            },
            "type": "scattermapbox"
           }
          ],
          "scatterpolar": [
           {
            "marker": {
             "colorbar": {
              "outlinewidth": 0,
              "ticks": ""
             }
            },
            "type": "scatterpolar"
           }
          ],
          "scatterpolargl": [
           {
            "marker": {
             "colorbar": {
              "outlinewidth": 0,
              "ticks": ""
             }
            },
            "type": "scatterpolargl"
           }
          ],
          "scatterternary": [
           {
            "marker": {
             "colorbar": {
              "outlinewidth": 0,
              "ticks": ""
             }
            },
            "type": "scatterternary"
           }
          ],
          "surface": [
           {
            "colorbar": {
             "outlinewidth": 0,
             "ticks": ""
            },
            "colorscale": [
             [
              0,
              "#0d0887"
             ],
             [
              0.1111111111111111,
              "#46039f"
             ],
             [
              0.2222222222222222,
              "#7201a8"
             ],
             [
              0.3333333333333333,
              "#9c179e"
             ],
             [
              0.4444444444444444,
              "#bd3786"
             ],
             [
              0.5555555555555556,
              "#d8576b"
             ],
             [
              0.6666666666666666,
              "#ed7953"
             ],
             [
              0.7777777777777778,
              "#fb9f3a"
             ],
             [
              0.8888888888888888,
              "#fdca26"
             ],
             [
              1,
              "#f0f921"
             ]
            ],
            "type": "surface"
           }
          ],
          "table": [
           {
            "cells": {
             "fill": {
              "color": "#EBF0F8"
             },
             "line": {
              "color": "white"
             }
            },
            "header": {
             "fill": {
              "color": "#C8D4E3"
             },
             "line": {
              "color": "white"
             }
            },
            "type": "table"
           }
          ]
         },
         "layout": {
          "annotationdefaults": {
           "arrowcolor": "#2a3f5f",
           "arrowhead": 0,
           "arrowwidth": 1
          },
          "autotypenumbers": "strict",
          "coloraxis": {
           "colorbar": {
            "outlinewidth": 0,
            "ticks": ""
           }
          },
          "colorscale": {
           "diverging": [
            [
             0,
             "#8e0152"
            ],
            [
             0.1,
             "#c51b7d"
            ],
            [
             0.2,
             "#de77ae"
            ],
            [
             0.3,
             "#f1b6da"
            ],
            [
             0.4,
             "#fde0ef"
            ],
            [
             0.5,
             "#f7f7f7"
            ],
            [
             0.6,
             "#e6f5d0"
            ],
            [
             0.7,
             "#b8e186"
            ],
            [
             0.8,
             "#7fbc41"
            ],
            [
             0.9,
             "#4d9221"
            ],
            [
             1,
             "#276419"
            ]
           ],
           "sequential": [
            [
             0,
             "#0d0887"
            ],
            [
             0.1111111111111111,
             "#46039f"
            ],
            [
             0.2222222222222222,
             "#7201a8"
            ],
            [
             0.3333333333333333,
             "#9c179e"
            ],
            [
             0.4444444444444444,
             "#bd3786"
            ],
            [
             0.5555555555555556,
             "#d8576b"
            ],
            [
             0.6666666666666666,
             "#ed7953"
            ],
            [
             0.7777777777777778,
             "#fb9f3a"
            ],
            [
             0.8888888888888888,
             "#fdca26"
            ],
            [
             1,
             "#f0f921"
            ]
           ],
           "sequentialminus": [
            [
             0,
             "#0d0887"
            ],
            [
             0.1111111111111111,
             "#46039f"
            ],
            [
             0.2222222222222222,
             "#7201a8"
            ],
            [
             0.3333333333333333,
             "#9c179e"
            ],
            [
             0.4444444444444444,
             "#bd3786"
            ],
            [
             0.5555555555555556,
             "#d8576b"
            ],
            [
             0.6666666666666666,
             "#ed7953"
            ],
            [
             0.7777777777777778,
             "#fb9f3a"
            ],
            [
             0.8888888888888888,
             "#fdca26"
            ],
            [
             1,
             "#f0f921"
            ]
           ]
          },
          "colorway": [
           "#636efa",
           "#EF553B",
           "#00cc96",
           "#ab63fa",
           "#FFA15A",
           "#19d3f3",
           "#FF6692",
           "#B6E880",
           "#FF97FF",
           "#FECB52"
          ],
          "font": {
           "color": "#2a3f5f"
          },
          "geo": {
           "bgcolor": "white",
           "lakecolor": "white",
           "landcolor": "#E5ECF6",
           "showlakes": true,
           "showland": true,
           "subunitcolor": "white"
          },
          "hoverlabel": {
           "align": "left"
          },
          "hovermode": "closest",
          "mapbox": {
           "style": "light"
          },
          "paper_bgcolor": "white",
          "plot_bgcolor": "#E5ECF6",
          "polar": {
           "angularaxis": {
            "gridcolor": "white",
            "linecolor": "white",
            "ticks": ""
           },
           "bgcolor": "#E5ECF6",
           "radialaxis": {
            "gridcolor": "white",
            "linecolor": "white",
            "ticks": ""
           }
          },
          "scene": {
           "xaxis": {
            "backgroundcolor": "#E5ECF6",
            "gridcolor": "white",
            "gridwidth": 2,
            "linecolor": "white",
            "showbackground": true,
            "ticks": "",
            "zerolinecolor": "white"
           },
           "yaxis": {
            "backgroundcolor": "#E5ECF6",
            "gridcolor": "white",
            "gridwidth": 2,
            "linecolor": "white",
            "showbackground": true,
            "ticks": "",
            "zerolinecolor": "white"
           },
           "zaxis": {
            "backgroundcolor": "#E5ECF6",
            "gridcolor": "white",
            "gridwidth": 2,
            "linecolor": "white",
            "showbackground": true,
            "ticks": "",
            "zerolinecolor": "white"
           }
          },
          "shapedefaults": {
           "line": {
            "color": "#2a3f5f"
           }
          },
          "ternary": {
           "aaxis": {
            "gridcolor": "white",
            "linecolor": "white",
            "ticks": ""
           },
           "baxis": {
            "gridcolor": "white",
            "linecolor": "white",
            "ticks": ""
           },
           "bgcolor": "#E5ECF6",
           "caxis": {
            "gridcolor": "white",
            "linecolor": "white",
            "ticks": ""
           }
          },
          "title": {
           "x": 0.05
          },
          "xaxis": {
           "automargin": true,
           "gridcolor": "white",
           "linecolor": "white",
           "ticks": "",
           "title": {
            "standoff": 15
           },
           "zerolinecolor": "white",
           "zerolinewidth": 2
          },
          "yaxis": {
           "automargin": true,
           "gridcolor": "white",
           "linecolor": "white",
           "ticks": "",
           "title": {
            "standoff": 15
           },
           "zerolinecolor": "white",
           "zerolinewidth": 2
          }
         }
        },
        "title": {
         "font": {
          "color": "#4D5663"
         }
        },
        "xaxis": {
         "gridcolor": "#E1E5ED",
         "showgrid": true,
         "tickfont": {
          "color": "#4D5663"
         },
         "title": {
          "font": {
           "color": "#4D5663"
          },
          "text": ""
         },
         "zerolinecolor": "#E1E5ED"
        },
        "yaxis": {
         "gridcolor": "#E1E5ED",
         "showgrid": true,
         "tickfont": {
          "color": "#4D5663"
         },
         "title": {
          "font": {
           "color": "#4D5663"
          },
          "text": ""
         },
         "zerolinecolor": "#E1E5ED"
        }
       }
      },
      "text/html": [
       "<div>                            <div id=\"a7806743-6ca6-47f2-828a-e1e440e469e2\" class=\"plotly-graph-div\" style=\"height:525px; width:100%;\"></div>            <script type=\"text/javascript\">                require([\"plotly\"], function(Plotly) {                    window.PLOTLYENV=window.PLOTLYENV || {};\n",
       "                    window.PLOTLYENV.BASE_URL='https://plot.ly';                                    if (document.getElementById(\"a7806743-6ca6-47f2-828a-e1e440e469e2\")) {                    Plotly.newPlot(                        \"a7806743-6ca6-47f2-828a-e1e440e469e2\",                        [{\"marker\": {\"color\": \"rgba(255, 153, 51, 0.6)\", \"line\": {\"color\": \"rgba(255, 153, 51, 1.0)\", \"width\": 1}}, \"name\": \"content\", \"orientation\": \"v\", \"text\": \"\", \"type\": \"bar\", \"x\": [0, 1, 2, 3, 4, 5, 6, 7, 8, 9, 10, 11, 12, 13, 14, 15, 16, 17, 18, 19, 20, 21, 22, 23, 24, 25, 26, 27, 28, 29, 30, 31, 32, 33, 34, 35, 36, 37, 38, 39], \"y\": [666, 101, 82, 50, 82, 38, 750, 206, 47, 68, 160, 224, 30, 1032, 328, 161, 2093, 941, 75, 33, 364, 947, 506, 288, 410, 57, 23, 5, 2, 392, 40, 375, 220, 136, 11, 271, 76, 11, 555, 175]}],                        {\"legend\": {\"bgcolor\": \"#F5F6F9\", \"font\": {\"color\": \"#4D5663\"}}, \"paper_bgcolor\": \"#F5F6F9\", \"plot_bgcolor\": \"#F5F6F9\", \"template\": {\"data\": {\"bar\": [{\"error_x\": {\"color\": \"#2a3f5f\"}, \"error_y\": {\"color\": \"#2a3f5f\"}, \"marker\": {\"line\": {\"color\": \"#E5ECF6\", \"width\": 0.5}}, \"type\": \"bar\"}], \"barpolar\": [{\"marker\": {\"line\": {\"color\": \"#E5ECF6\", \"width\": 0.5}}, \"type\": \"barpolar\"}], \"carpet\": [{\"aaxis\": {\"endlinecolor\": \"#2a3f5f\", \"gridcolor\": \"white\", \"linecolor\": \"white\", \"minorgridcolor\": \"white\", \"startlinecolor\": \"#2a3f5f\"}, \"baxis\": {\"endlinecolor\": \"#2a3f5f\", \"gridcolor\": \"white\", \"linecolor\": \"white\", \"minorgridcolor\": \"white\", \"startlinecolor\": \"#2a3f5f\"}, \"type\": \"carpet\"}], \"choropleth\": [{\"colorbar\": {\"outlinewidth\": 0, \"ticks\": \"\"}, \"type\": \"choropleth\"}], \"contour\": [{\"colorbar\": {\"outlinewidth\": 0, \"ticks\": \"\"}, \"colorscale\": [[0.0, \"#0d0887\"], [0.1111111111111111, \"#46039f\"], [0.2222222222222222, \"#7201a8\"], [0.3333333333333333, \"#9c179e\"], [0.4444444444444444, \"#bd3786\"], [0.5555555555555556, \"#d8576b\"], [0.6666666666666666, \"#ed7953\"], [0.7777777777777778, \"#fb9f3a\"], [0.8888888888888888, \"#fdca26\"], [1.0, \"#f0f921\"]], \"type\": \"contour\"}], \"contourcarpet\": [{\"colorbar\": {\"outlinewidth\": 0, \"ticks\": \"\"}, \"type\": \"contourcarpet\"}], \"heatmap\": [{\"colorbar\": {\"outlinewidth\": 0, \"ticks\": \"\"}, \"colorscale\": [[0.0, \"#0d0887\"], [0.1111111111111111, \"#46039f\"], [0.2222222222222222, \"#7201a8\"], [0.3333333333333333, \"#9c179e\"], [0.4444444444444444, \"#bd3786\"], [0.5555555555555556, \"#d8576b\"], [0.6666666666666666, \"#ed7953\"], [0.7777777777777778, \"#fb9f3a\"], [0.8888888888888888, \"#fdca26\"], [1.0, \"#f0f921\"]], \"type\": \"heatmap\"}], \"heatmapgl\": [{\"colorbar\": {\"outlinewidth\": 0, \"ticks\": \"\"}, \"colorscale\": [[0.0, \"#0d0887\"], [0.1111111111111111, \"#46039f\"], [0.2222222222222222, \"#7201a8\"], [0.3333333333333333, \"#9c179e\"], [0.4444444444444444, \"#bd3786\"], [0.5555555555555556, \"#d8576b\"], [0.6666666666666666, \"#ed7953\"], [0.7777777777777778, \"#fb9f3a\"], [0.8888888888888888, \"#fdca26\"], [1.0, \"#f0f921\"]], \"type\": \"heatmapgl\"}], \"histogram\": [{\"marker\": {\"colorbar\": {\"outlinewidth\": 0, \"ticks\": \"\"}}, \"type\": \"histogram\"}], \"histogram2d\": [{\"colorbar\": {\"outlinewidth\": 0, \"ticks\": \"\"}, \"colorscale\": [[0.0, \"#0d0887\"], [0.1111111111111111, \"#46039f\"], [0.2222222222222222, \"#7201a8\"], [0.3333333333333333, \"#9c179e\"], [0.4444444444444444, \"#bd3786\"], [0.5555555555555556, \"#d8576b\"], [0.6666666666666666, \"#ed7953\"], [0.7777777777777778, \"#fb9f3a\"], [0.8888888888888888, \"#fdca26\"], [1.0, \"#f0f921\"]], \"type\": \"histogram2d\"}], \"histogram2dcontour\": [{\"colorbar\": {\"outlinewidth\": 0, \"ticks\": \"\"}, \"colorscale\": [[0.0, \"#0d0887\"], [0.1111111111111111, \"#46039f\"], [0.2222222222222222, \"#7201a8\"], [0.3333333333333333, \"#9c179e\"], [0.4444444444444444, \"#bd3786\"], [0.5555555555555556, \"#d8576b\"], [0.6666666666666666, \"#ed7953\"], [0.7777777777777778, \"#fb9f3a\"], [0.8888888888888888, \"#fdca26\"], [1.0, \"#f0f921\"]], \"type\": \"histogram2dcontour\"}], \"mesh3d\": [{\"colorbar\": {\"outlinewidth\": 0, \"ticks\": \"\"}, \"type\": \"mesh3d\"}], \"parcoords\": [{\"line\": {\"colorbar\": {\"outlinewidth\": 0, \"ticks\": \"\"}}, \"type\": \"parcoords\"}], \"pie\": [{\"automargin\": true, \"type\": \"pie\"}], \"scatter\": [{\"marker\": {\"colorbar\": {\"outlinewidth\": 0, \"ticks\": \"\"}}, \"type\": \"scatter\"}], \"scatter3d\": [{\"line\": {\"colorbar\": {\"outlinewidth\": 0, \"ticks\": \"\"}}, \"marker\": {\"colorbar\": {\"outlinewidth\": 0, \"ticks\": \"\"}}, \"type\": \"scatter3d\"}], \"scattercarpet\": [{\"marker\": {\"colorbar\": {\"outlinewidth\": 0, \"ticks\": \"\"}}, \"type\": \"scattercarpet\"}], \"scattergeo\": [{\"marker\": {\"colorbar\": {\"outlinewidth\": 0, \"ticks\": \"\"}}, \"type\": \"scattergeo\"}], \"scattergl\": [{\"marker\": {\"colorbar\": {\"outlinewidth\": 0, \"ticks\": \"\"}}, \"type\": \"scattergl\"}], \"scattermapbox\": [{\"marker\": {\"colorbar\": {\"outlinewidth\": 0, \"ticks\": \"\"}}, \"type\": \"scattermapbox\"}], \"scatterpolar\": [{\"marker\": {\"colorbar\": {\"outlinewidth\": 0, \"ticks\": \"\"}}, \"type\": \"scatterpolar\"}], \"scatterpolargl\": [{\"marker\": {\"colorbar\": {\"outlinewidth\": 0, \"ticks\": \"\"}}, \"type\": \"scatterpolargl\"}], \"scatterternary\": [{\"marker\": {\"colorbar\": {\"outlinewidth\": 0, \"ticks\": \"\"}}, \"type\": \"scatterternary\"}], \"surface\": [{\"colorbar\": {\"outlinewidth\": 0, \"ticks\": \"\"}, \"colorscale\": [[0.0, \"#0d0887\"], [0.1111111111111111, \"#46039f\"], [0.2222222222222222, \"#7201a8\"], [0.3333333333333333, \"#9c179e\"], [0.4444444444444444, \"#bd3786\"], [0.5555555555555556, \"#d8576b\"], [0.6666666666666666, \"#ed7953\"], [0.7777777777777778, \"#fb9f3a\"], [0.8888888888888888, \"#fdca26\"], [1.0, \"#f0f921\"]], \"type\": \"surface\"}], \"table\": [{\"cells\": {\"fill\": {\"color\": \"#EBF0F8\"}, \"line\": {\"color\": \"white\"}}, \"header\": {\"fill\": {\"color\": \"#C8D4E3\"}, \"line\": {\"color\": \"white\"}}, \"type\": \"table\"}]}, \"layout\": {\"annotationdefaults\": {\"arrowcolor\": \"#2a3f5f\", \"arrowhead\": 0, \"arrowwidth\": 1}, \"autotypenumbers\": \"strict\", \"coloraxis\": {\"colorbar\": {\"outlinewidth\": 0, \"ticks\": \"\"}}, \"colorscale\": {\"diverging\": [[0, \"#8e0152\"], [0.1, \"#c51b7d\"], [0.2, \"#de77ae\"], [0.3, \"#f1b6da\"], [0.4, \"#fde0ef\"], [0.5, \"#f7f7f7\"], [0.6, \"#e6f5d0\"], [0.7, \"#b8e186\"], [0.8, \"#7fbc41\"], [0.9, \"#4d9221\"], [1, \"#276419\"]], \"sequential\": [[0.0, \"#0d0887\"], [0.1111111111111111, \"#46039f\"], [0.2222222222222222, \"#7201a8\"], [0.3333333333333333, \"#9c179e\"], [0.4444444444444444, \"#bd3786\"], [0.5555555555555556, \"#d8576b\"], [0.6666666666666666, \"#ed7953\"], [0.7777777777777778, \"#fb9f3a\"], [0.8888888888888888, \"#fdca26\"], [1.0, \"#f0f921\"]], \"sequentialminus\": [[0.0, \"#0d0887\"], [0.1111111111111111, \"#46039f\"], [0.2222222222222222, \"#7201a8\"], [0.3333333333333333, \"#9c179e\"], [0.4444444444444444, \"#bd3786\"], [0.5555555555555556, \"#d8576b\"], [0.6666666666666666, \"#ed7953\"], [0.7777777777777778, \"#fb9f3a\"], [0.8888888888888888, \"#fdca26\"], [1.0, \"#f0f921\"]]}, \"colorway\": [\"#636efa\", \"#EF553B\", \"#00cc96\", \"#ab63fa\", \"#FFA15A\", \"#19d3f3\", \"#FF6692\", \"#B6E880\", \"#FF97FF\", \"#FECB52\"], \"font\": {\"color\": \"#2a3f5f\"}, \"geo\": {\"bgcolor\": \"white\", \"lakecolor\": \"white\", \"landcolor\": \"#E5ECF6\", \"showlakes\": true, \"showland\": true, \"subunitcolor\": \"white\"}, \"hoverlabel\": {\"align\": \"left\"}, \"hovermode\": \"closest\", \"mapbox\": {\"style\": \"light\"}, \"paper_bgcolor\": \"white\", \"plot_bgcolor\": \"#E5ECF6\", \"polar\": {\"angularaxis\": {\"gridcolor\": \"white\", \"linecolor\": \"white\", \"ticks\": \"\"}, \"bgcolor\": \"#E5ECF6\", \"radialaxis\": {\"gridcolor\": \"white\", \"linecolor\": \"white\", \"ticks\": \"\"}}, \"scene\": {\"xaxis\": {\"backgroundcolor\": \"#E5ECF6\", \"gridcolor\": \"white\", \"gridwidth\": 2, \"linecolor\": \"white\", \"showbackground\": true, \"ticks\": \"\", \"zerolinecolor\": \"white\"}, \"yaxis\": {\"backgroundcolor\": \"#E5ECF6\", \"gridcolor\": \"white\", \"gridwidth\": 2, \"linecolor\": \"white\", \"showbackground\": true, \"ticks\": \"\", \"zerolinecolor\": \"white\"}, \"zaxis\": {\"backgroundcolor\": \"#E5ECF6\", \"gridcolor\": \"white\", \"gridwidth\": 2, \"linecolor\": \"white\", \"showbackground\": true, \"ticks\": \"\", \"zerolinecolor\": \"white\"}}, \"shapedefaults\": {\"line\": {\"color\": \"#2a3f5f\"}}, \"ternary\": {\"aaxis\": {\"gridcolor\": \"white\", \"linecolor\": \"white\", \"ticks\": \"\"}, \"baxis\": {\"gridcolor\": \"white\", \"linecolor\": \"white\", \"ticks\": \"\"}, \"bgcolor\": \"#E5ECF6\", \"caxis\": {\"gridcolor\": \"white\", \"linecolor\": \"white\", \"ticks\": \"\"}}, \"title\": {\"x\": 0.05}, \"xaxis\": {\"automargin\": true, \"gridcolor\": \"white\", \"linecolor\": \"white\", \"ticks\": \"\", \"title\": {\"standoff\": 15}, \"zerolinecolor\": \"white\", \"zerolinewidth\": 2}, \"yaxis\": {\"automargin\": true, \"gridcolor\": \"white\", \"linecolor\": \"white\", \"ticks\": \"\", \"title\": {\"standoff\": 15}, \"zerolinecolor\": \"white\", \"zerolinewidth\": 2}}}, \"title\": {\"font\": {\"color\": \"#4D5663\"}}, \"xaxis\": {\"gridcolor\": \"#E1E5ED\", \"showgrid\": true, \"tickfont\": {\"color\": \"#4D5663\"}, \"title\": {\"font\": {\"color\": \"#4D5663\"}, \"text\": \"\"}, \"zerolinecolor\": \"#E1E5ED\"}, \"yaxis\": {\"gridcolor\": \"#E1E5ED\", \"showgrid\": true, \"tickfont\": {\"color\": \"#4D5663\"}, \"title\": {\"font\": {\"color\": \"#4D5663\"}, \"text\": \"\"}, \"zerolinecolor\": \"#E1E5ED\"}},                        {\"showLink\": true, \"linkText\": \"Export to plot.ly\", \"plotlyServerURL\": \"https://plot.ly\", \"responsive\": true}                    ).then(function(){\n",
       "                            \n",
       "var gd = document.getElementById('a7806743-6ca6-47f2-828a-e1e440e469e2');\n",
       "var x = new MutationObserver(function (mutations, observer) {{\n",
       "        var display = window.getComputedStyle(gd).display;\n",
       "        if (!display || display === 'none') {{\n",
       "            console.log([gd, 'removed!']);\n",
       "            Plotly.purge(gd);\n",
       "            observer.disconnect();\n",
       "        }}\n",
       "}});\n",
       "\n",
       "// Listen for the removal of the full notebook cells\n",
       "var notebookContainer = gd.closest('#notebook-container');\n",
       "if (notebookContainer) {{\n",
       "    x.observe(notebookContainer, {childList: true});\n",
       "}}\n",
       "\n",
       "// Listen for the clearing of the current output cell\n",
       "var outputEl = gd.closest('.output');\n",
       "if (outputEl) {{\n",
       "    x.observe(outputEl, {childList: true});\n",
       "}}\n",
       "\n",
       "                        })                };                });            </script>        </div>"
      ]
     },
     "metadata": {},
     "output_type": "display_data"
    }
   ],
   "source": [
    "# https://stackoverflow.com/questions/55132071/series-object-has-no-attribute-iplot/55132247\n",
    "import cufflinks as cf\n",
    "cf.go_offline()\n",
    "cf.set_config_file(offline=False, world_readable=True)\n",
    "\n",
    "\n",
    "df9.groupby('ind').content.count().iplot(\n",
    "    kind='bar'\n",
    ")"
   ]
  },
  {
   "cell_type": "markdown",
   "id": "4e8a56b4",
   "metadata": {},
   "source": [
    "# Multinomial Naive Bayes using a pipeline and the original dataframe"
   ]
  },
  {
   "cell_type": "code",
   "execution_count": 21,
   "id": "d90cedbb",
   "metadata": {},
   "outputs": [],
   "source": [
    "X = df['Full Description']\n",
    "y = df['Industry Groups']\n",
    "\n",
    "X_train, X_test, y_train, y_test = train_test_split(X, y, test_size=0.3, random_state = 42)"
   ]
  },
  {
   "cell_type": "code",
   "execution_count": 24,
   "id": "d392c72c",
   "metadata": {},
   "outputs": [
    {
     "data": {
      "text/plain": [
       "Pipeline(steps=[('vect', CountVectorizer()), ('tfidf', TfidfTransformer()),\n",
       "                ('clf', MultinomialNB())])"
      ]
     },
     "execution_count": 24,
     "metadata": {},
     "output_type": "execute_result"
    }
   ],
   "source": [
    "import logging\n",
    "import pandas as pd\n",
    "import numpy as np\n",
    "from numpy import random\n",
    "import gensim\n",
    "import nltk\n",
    "from sklearn.model_selection import train_test_split\n",
    "from sklearn.feature_extraction.text import CountVectorizer, TfidfVectorizer\n",
    "from sklearn.metrics import accuracy_score, confusion_matrix\n",
    "from sklearn.naive_bayes import MultinomialNB\n",
    "from sklearn.pipeline import Pipeline\n",
    "from sklearn.feature_extraction.text import TfidfTransformer\n",
    "\n",
    "nb = Pipeline([('vect', CountVectorizer()),\n",
    "               ('tfidf', TfidfTransformer()),\n",
    "               ('clf', MultinomialNB()),\n",
    "              ])\n",
    "nb.fit(X_train, y_train)"
   ]
  },
  {
   "cell_type": "code",
   "execution_count": 25,
   "id": "61a847a4",
   "metadata": {},
   "outputs": [
    {
     "name": "stdout",
     "output_type": "stream",
     "text": [
      "accuracy 0.3091412742382271\n",
      "                         precision    recall  f1-score   support\n",
      "\n",
      "          Manufacturing       0.93      0.07      0.13       206\n",
      "   Privacy and Security       0.00      0.00      0.00        32\n",
      " Information Technology       0.00      0.00      0.00        25\n",
      "  Professional Services       0.00      0.00      0.00        14\n",
      "               Software       0.00      0.00      0.00        26\n",
      "              Education       0.00      0.00      0.00        14\n",
      "            Health Care       0.80      0.02      0.03       229\n",
      "     Travel and Tourism       0.00      0.00      0.00        71\n",
      "      Food and Beverage       0.00      0.00      0.00        13\n",
      "         Transportation       0.00      0.00      0.00        14\n",
      "   Clothing and Apparel       0.00      0.00      0.00        45\n",
      "            Real Estate       0.00      0.00      0.00        64\n",
      "Administrative Services       0.00      0.00      0.00         9\n",
      "    Sales and Marketing       0.90      0.60      0.72       305\n",
      "      Internet Services       1.00      0.03      0.07        88\n",
      "     Financial Services       0.00      0.00      0.00        39\n",
      "  Commerce and Shopping       0.21      1.00      0.35       639\n",
      "                 Energy       0.80      0.54      0.64       288\n",
      "                 Sports       0.00      0.00      0.00        27\n",
      "                  Other       0.00      0.00      0.00        11\n",
      "               Hardware       0.00      0.00      0.00       110\n",
      "     Data and Analytics       0.84      0.41      0.55       275\n",
      "                 Design       0.00      0.00      0.00       163\n",
      "         Consumer Goods       0.00      0.00      0.00        87\n",
      "Agriculture and Farming       1.00      0.01      0.03       137\n",
      "Government and Military       0.00      0.00      0.00        19\n",
      "                 Mobile       0.00      0.00      0.00         8\n",
      "Media and Entertainment       0.00      0.00      0.00         2\n",
      "Community and Lifestyle       0.00      0.00      0.00         1\n",
      "                 Gaming       0.00      0.00      0.00        97\n",
      "                   Apps       0.00      0.00      0.00        10\n",
      "         Sustainability       0.00      0.00      0.00       109\n",
      "Science and Engineering       0.00      0.00      0.00        73\n",
      "      Natural Resources       0.00      0.00      0.00        35\n",
      "            Advertising       0.00      0.00      0.00         1\n",
      " Content and Publishing       0.00      0.00      0.00        72\n",
      "          Biotechnology       0.00      0.00      0.00        24\n",
      " Navigation and Mapping       0.00      0.00      0.00         6\n",
      "   Consumer Electronics       0.75      0.02      0.03       172\n",
      "                 Events       0.00      0.00      0.00        50\n",
      "\n",
      "               accuracy                           0.31      3610\n",
      "              macro avg       0.18      0.07      0.06      3610\n",
      "           weighted avg       0.44      0.31      0.23      3610\n",
      "\n",
      "CPU times: user 240 ms, sys: 2.97 ms, total: 243 ms\n",
      "Wall time: 240 ms\n"
     ]
    },
    {
     "name": "stderr",
     "output_type": "stream",
     "text": [
      "/Users/holdenbruce/opt/anaconda3/lib/python3.7/site-packages/sklearn/metrics/_classification.py:1245: UndefinedMetricWarning:\n",
      "\n",
      "Precision and F-score are ill-defined and being set to 0.0 in labels with no predicted samples. Use `zero_division` parameter to control this behavior.\n",
      "\n",
      "/Users/holdenbruce/opt/anaconda3/lib/python3.7/site-packages/sklearn/metrics/_classification.py:1245: UndefinedMetricWarning:\n",
      "\n",
      "Precision and F-score are ill-defined and being set to 0.0 in labels with no predicted samples. Use `zero_division` parameter to control this behavior.\n",
      "\n",
      "/Users/holdenbruce/opt/anaconda3/lib/python3.7/site-packages/sklearn/metrics/_classification.py:1245: UndefinedMetricWarning:\n",
      "\n",
      "Precision and F-score are ill-defined and being set to 0.0 in labels with no predicted samples. Use `zero_division` parameter to control this behavior.\n",
      "\n"
     ]
    }
   ],
   "source": [
    "%%time\n",
    "from sklearn.metrics import classification_report\n",
    "y_pred = nb.predict(X_test)\n",
    "\n",
    "print('accuracy %s' % accuracy_score(y_pred, y_test))\n",
    "print(classification_report(y_test, y_pred,target_names=df['Industry Groups'].unique()))"
   ]
  },
  {
   "cell_type": "markdown",
   "id": "1a888acb",
   "metadata": {},
   "source": [
    "# LSTM Multi-Class Text Classification\n",
    "\n",
    "Drew heavy inspiration from the MNIST Multi-class classification problem on Google Research Colab <br>\n",
    "https://colab.research.google.com/github/google/eng-edu/blob/main/ml/cc/exercises/multi-class_classification_with_MNIST.ipynb?utm_source=mlcc&utm_campaign=colab-external&utm_medium=referral&utm_content=multiclass_tf2-colab&hl=en#scrollTo=nj3v5EKQFY8s"
   ]
  },
  {
   "cell_type": "code",
   "execution_count": 37,
   "id": "21da96c2",
   "metadata": {},
   "outputs": [
    {
     "name": "stderr",
     "output_type": "stream",
     "text": [
      "Using TensorFlow backend.\n",
      "WARNING:root:Limited tf.compat.v2.summary API due to missing TensorBoard installation.\n",
      "WARNING:root:Limited tf.compat.v2.summary API due to missing TensorBoard installation.\n",
      "WARNING:root:Limited tf.summary API due to missing TensorBoard installation.\n"
     ]
    },
    {
     "data": {
      "text/html": [
       "        <script type=\"text/javascript\">\n",
       "        window.PlotlyConfig = {MathJaxConfig: 'local'};\n",
       "        if (window.MathJax) {MathJax.Hub.Config({SVG: {font: \"STIX-Web\"}});}\n",
       "        if (typeof require !== 'undefined') {\n",
       "        require.undef(\"plotly\");\n",
       "        requirejs.config({\n",
       "            paths: {\n",
       "                'plotly': ['https://cdn.plot.ly/plotly-latest.min']\n",
       "            }\n",
       "        });\n",
       "        require(['plotly'], function(Plotly) {\n",
       "            window._Plotly = Plotly;\n",
       "        });\n",
       "        }\n",
       "        </script>\n",
       "        "
      ]
     },
     "metadata": {},
     "output_type": "display_data"
    }
   ],
   "source": [
    "import numpy as np \n",
    "import pandas as pd\n",
    "import matplotlib.pyplot as plt\n",
    "import seaborn as sns\n",
    "from keras.preprocessing.text import Tokenizer\n",
    "from keras.preprocessing.sequence import pad_sequences\n",
    "from keras.models import Sequential\n",
    "from keras.layers import Dense, Embedding, LSTM, SpatialDropout1D\n",
    "from sklearn.model_selection import train_test_split\n",
    "from keras.utils.np_utils import to_categorical\n",
    "from keras.callbacks import EarlyStopping\n",
    "from keras.layers import Dropout\n",
    "import re\n",
    "from nltk.corpus import stopwords\n",
    "from nltk import word_tokenize\n",
    "STOPWORDS = set(stopwords.words('english'))\n",
    "from bs4 import BeautifulSoup\n",
    "import plotly.graph_objs as go\n",
    "import cufflinks\n",
    "from IPython.core.interactiveshell import InteractiveShell\n",
    "import plotly.figure_factory as ff\n",
    "InteractiveShell.ast_node_interactivity = 'all'\n",
    "from plotly.offline import iplot\n",
    "cufflinks.go_offline()\n",
    "cufflinks.set_config_file(world_readable=True, theme='pearl')"
   ]
  },
  {
   "cell_type": "code",
   "execution_count": 27,
   "id": "d23bc370",
   "metadata": {},
   "outputs": [
    {
     "data": {
      "text/html": [
       "        <script type=\"text/javascript\">\n",
       "        window.PlotlyConfig = {MathJaxConfig: 'local'};\n",
       "        if (window.MathJax) {MathJax.Hub.Config({SVG: {font: \"STIX-Web\"}});}\n",
       "        if (typeof require !== 'undefined') {\n",
       "        require.undef(\"plotly\");\n",
       "        requirejs.config({\n",
       "            paths: {\n",
       "                'plotly': ['https://cdn.plot.ly/plotly-latest.min']\n",
       "            }\n",
       "        });\n",
       "        require(['plotly'], function(Plotly) {\n",
       "            window._Plotly = Plotly;\n",
       "        });\n",
       "        }\n",
       "        </script>\n",
       "        "
      ]
     },
     "metadata": {},
     "output_type": "display_data"
    },
    {
     "data": {
      "application/vnd.plotly.v1+json": {
       "config": {
        "linkText": "Export to plot.ly",
        "plotlyServerURL": "https://plot.ly",
        "showLink": true
       },
       "data": [
        {
         "marker": {
          "color": "rgba(255, 153, 51, 0.6)",
          "line": {
           "color": "rgba(255, 153, 51, 1.0)",
           "width": 1
          }
         },
         "name": "Industry Groups",
         "orientation": "v",
         "text": "",
         "type": "bar",
         "x": [
          "Financial Services",
          "Education",
          "Health Care",
          "Food and Beverage",
          "Commerce and Shopping",
          "Administrative Services",
          "Transportation",
          "Information Technology",
          "Manufacturing",
          "Other",
          "Professional Services",
          "Hardware",
          "Energy",
          "Internet Services",
          "Software",
          "Data and Analytics",
          "Real Estate",
          "Community and Lifestyle",
          "Travel and Tourism",
          "Events",
          "Content and Publishing",
          "Sales and Marketing",
          "Advertising",
          "Agriculture and Farming",
          "Biotechnology",
          "Sports",
          "Gaming",
          "Consumer Goods",
          "Media and Entertainment",
          "Apps",
          "Consumer Electronics",
          "Privacy and Security",
          "Clothing and Apparel",
          "Government and Military",
          "Design",
          "Mobile",
          "Sustainability",
          "Science and Engineering",
          "Natural Resources",
          "Navigation and Mapping"
         ],
         "y": [
          2093,
          1032,
          947,
          941,
          750,
          666,
          555,
          506,
          410,
          392,
          375,
          364,
          328,
          288,
          271,
          224,
          220,
          206,
          175,
          161,
          160,
          136,
          101,
          82,
          82,
          76,
          75,
          68,
          57,
          50,
          47,
          40,
          38,
          33,
          30,
          23,
          11,
          11,
          5,
          2
         ]
        }
       ],
       "layout": {
        "legend": {
         "bgcolor": "#F5F6F9",
         "font": {
          "color": "#4D5663"
         }
        },
        "paper_bgcolor": "#F5F6F9",
        "plot_bgcolor": "#F5F6F9",
        "template": {
         "data": {
          "bar": [
           {
            "error_x": {
             "color": "#2a3f5f"
            },
            "error_y": {
             "color": "#2a3f5f"
            },
            "marker": {
             "line": {
              "color": "#E5ECF6",
              "width": 0.5
             }
            },
            "type": "bar"
           }
          ],
          "barpolar": [
           {
            "marker": {
             "line": {
              "color": "#E5ECF6",
              "width": 0.5
             }
            },
            "type": "barpolar"
           }
          ],
          "carpet": [
           {
            "aaxis": {
             "endlinecolor": "#2a3f5f",
             "gridcolor": "white",
             "linecolor": "white",
             "minorgridcolor": "white",
             "startlinecolor": "#2a3f5f"
            },
            "baxis": {
             "endlinecolor": "#2a3f5f",
             "gridcolor": "white",
             "linecolor": "white",
             "minorgridcolor": "white",
             "startlinecolor": "#2a3f5f"
            },
            "type": "carpet"
           }
          ],
          "choropleth": [
           {
            "colorbar": {
             "outlinewidth": 0,
             "ticks": ""
            },
            "type": "choropleth"
           }
          ],
          "contour": [
           {
            "colorbar": {
             "outlinewidth": 0,
             "ticks": ""
            },
            "colorscale": [
             [
              0,
              "#0d0887"
             ],
             [
              0.1111111111111111,
              "#46039f"
             ],
             [
              0.2222222222222222,
              "#7201a8"
             ],
             [
              0.3333333333333333,
              "#9c179e"
             ],
             [
              0.4444444444444444,
              "#bd3786"
             ],
             [
              0.5555555555555556,
              "#d8576b"
             ],
             [
              0.6666666666666666,
              "#ed7953"
             ],
             [
              0.7777777777777778,
              "#fb9f3a"
             ],
             [
              0.8888888888888888,
              "#fdca26"
             ],
             [
              1,
              "#f0f921"
             ]
            ],
            "type": "contour"
           }
          ],
          "contourcarpet": [
           {
            "colorbar": {
             "outlinewidth": 0,
             "ticks": ""
            },
            "type": "contourcarpet"
           }
          ],
          "heatmap": [
           {
            "colorbar": {
             "outlinewidth": 0,
             "ticks": ""
            },
            "colorscale": [
             [
              0,
              "#0d0887"
             ],
             [
              0.1111111111111111,
              "#46039f"
             ],
             [
              0.2222222222222222,
              "#7201a8"
             ],
             [
              0.3333333333333333,
              "#9c179e"
             ],
             [
              0.4444444444444444,
              "#bd3786"
             ],
             [
              0.5555555555555556,
              "#d8576b"
             ],
             [
              0.6666666666666666,
              "#ed7953"
             ],
             [
              0.7777777777777778,
              "#fb9f3a"
             ],
             [
              0.8888888888888888,
              "#fdca26"
             ],
             [
              1,
              "#f0f921"
             ]
            ],
            "type": "heatmap"
           }
          ],
          "heatmapgl": [
           {
            "colorbar": {
             "outlinewidth": 0,
             "ticks": ""
            },
            "colorscale": [
             [
              0,
              "#0d0887"
             ],
             [
              0.1111111111111111,
              "#46039f"
             ],
             [
              0.2222222222222222,
              "#7201a8"
             ],
             [
              0.3333333333333333,
              "#9c179e"
             ],
             [
              0.4444444444444444,
              "#bd3786"
             ],
             [
              0.5555555555555556,
              "#d8576b"
             ],
             [
              0.6666666666666666,
              "#ed7953"
             ],
             [
              0.7777777777777778,
              "#fb9f3a"
             ],
             [
              0.8888888888888888,
              "#fdca26"
             ],
             [
              1,
              "#f0f921"
             ]
            ],
            "type": "heatmapgl"
           }
          ],
          "histogram": [
           {
            "marker": {
             "colorbar": {
              "outlinewidth": 0,
              "ticks": ""
             }
            },
            "type": "histogram"
           }
          ],
          "histogram2d": [
           {
            "colorbar": {
             "outlinewidth": 0,
             "ticks": ""
            },
            "colorscale": [
             [
              0,
              "#0d0887"
             ],
             [
              0.1111111111111111,
              "#46039f"
             ],
             [
              0.2222222222222222,
              "#7201a8"
             ],
             [
              0.3333333333333333,
              "#9c179e"
             ],
             [
              0.4444444444444444,
              "#bd3786"
             ],
             [
              0.5555555555555556,
              "#d8576b"
             ],
             [
              0.6666666666666666,
              "#ed7953"
             ],
             [
              0.7777777777777778,
              "#fb9f3a"
             ],
             [
              0.8888888888888888,
              "#fdca26"
             ],
             [
              1,
              "#f0f921"
             ]
            ],
            "type": "histogram2d"
           }
          ],
          "histogram2dcontour": [
           {
            "colorbar": {
             "outlinewidth": 0,
             "ticks": ""
            },
            "colorscale": [
             [
              0,
              "#0d0887"
             ],
             [
              0.1111111111111111,
              "#46039f"
             ],
             [
              0.2222222222222222,
              "#7201a8"
             ],
             [
              0.3333333333333333,
              "#9c179e"
             ],
             [
              0.4444444444444444,
              "#bd3786"
             ],
             [
              0.5555555555555556,
              "#d8576b"
             ],
             [
              0.6666666666666666,
              "#ed7953"
             ],
             [
              0.7777777777777778,
              "#fb9f3a"
             ],
             [
              0.8888888888888888,
              "#fdca26"
             ],
             [
              1,
              "#f0f921"
             ]
            ],
            "type": "histogram2dcontour"
           }
          ],
          "mesh3d": [
           {
            "colorbar": {
             "outlinewidth": 0,
             "ticks": ""
            },
            "type": "mesh3d"
           }
          ],
          "parcoords": [
           {
            "line": {
             "colorbar": {
              "outlinewidth": 0,
              "ticks": ""
             }
            },
            "type": "parcoords"
           }
          ],
          "pie": [
           {
            "automargin": true,
            "type": "pie"
           }
          ],
          "scatter": [
           {
            "marker": {
             "colorbar": {
              "outlinewidth": 0,
              "ticks": ""
             }
            },
            "type": "scatter"
           }
          ],
          "scatter3d": [
           {
            "line": {
             "colorbar": {
              "outlinewidth": 0,
              "ticks": ""
             }
            },
            "marker": {
             "colorbar": {
              "outlinewidth": 0,
              "ticks": ""
             }
            },
            "type": "scatter3d"
           }
          ],
          "scattercarpet": [
           {
            "marker": {
             "colorbar": {
              "outlinewidth": 0,
              "ticks": ""
             }
            },
            "type": "scattercarpet"
           }
          ],
          "scattergeo": [
           {
            "marker": {
             "colorbar": {
              "outlinewidth": 0,
              "ticks": ""
             }
            },
            "type": "scattergeo"
           }
          ],
          "scattergl": [
           {
            "marker": {
             "colorbar": {
              "outlinewidth": 0,
              "ticks": ""
             }
            },
            "type": "scattergl"
           }
          ],
          "scattermapbox": [
           {
            "marker": {
             "colorbar": {
              "outlinewidth": 0,
              "ticks": ""
             }
            },
            "type": "scattermapbox"
           }
          ],
          "scatterpolar": [
           {
            "marker": {
             "colorbar": {
              "outlinewidth": 0,
              "ticks": ""
             }
            },
            "type": "scatterpolar"
           }
          ],
          "scatterpolargl": [
           {
            "marker": {
             "colorbar": {
              "outlinewidth": 0,
              "ticks": ""
             }
            },
            "type": "scatterpolargl"
           }
          ],
          "scatterternary": [
           {
            "marker": {
             "colorbar": {
              "outlinewidth": 0,
              "ticks": ""
             }
            },
            "type": "scatterternary"
           }
          ],
          "surface": [
           {
            "colorbar": {
             "outlinewidth": 0,
             "ticks": ""
            },
            "colorscale": [
             [
              0,
              "#0d0887"
             ],
             [
              0.1111111111111111,
              "#46039f"
             ],
             [
              0.2222222222222222,
              "#7201a8"
             ],
             [
              0.3333333333333333,
              "#9c179e"
             ],
             [
              0.4444444444444444,
              "#bd3786"
             ],
             [
              0.5555555555555556,
              "#d8576b"
             ],
             [
              0.6666666666666666,
              "#ed7953"
             ],
             [
              0.7777777777777778,
              "#fb9f3a"
             ],
             [
              0.8888888888888888,
              "#fdca26"
             ],
             [
              1,
              "#f0f921"
             ]
            ],
            "type": "surface"
           }
          ],
          "table": [
           {
            "cells": {
             "fill": {
              "color": "#EBF0F8"
             },
             "line": {
              "color": "white"
             }
            },
            "header": {
             "fill": {
              "color": "#C8D4E3"
             },
             "line": {
              "color": "white"
             }
            },
            "type": "table"
           }
          ]
         },
         "layout": {
          "annotationdefaults": {
           "arrowcolor": "#2a3f5f",
           "arrowhead": 0,
           "arrowwidth": 1
          },
          "autotypenumbers": "strict",
          "coloraxis": {
           "colorbar": {
            "outlinewidth": 0,
            "ticks": ""
           }
          },
          "colorscale": {
           "diverging": [
            [
             0,
             "#8e0152"
            ],
            [
             0.1,
             "#c51b7d"
            ],
            [
             0.2,
             "#de77ae"
            ],
            [
             0.3,
             "#f1b6da"
            ],
            [
             0.4,
             "#fde0ef"
            ],
            [
             0.5,
             "#f7f7f7"
            ],
            [
             0.6,
             "#e6f5d0"
            ],
            [
             0.7,
             "#b8e186"
            ],
            [
             0.8,
             "#7fbc41"
            ],
            [
             0.9,
             "#4d9221"
            ],
            [
             1,
             "#276419"
            ]
           ],
           "sequential": [
            [
             0,
             "#0d0887"
            ],
            [
             0.1111111111111111,
             "#46039f"
            ],
            [
             0.2222222222222222,
             "#7201a8"
            ],
            [
             0.3333333333333333,
             "#9c179e"
            ],
            [
             0.4444444444444444,
             "#bd3786"
            ],
            [
             0.5555555555555556,
             "#d8576b"
            ],
            [
             0.6666666666666666,
             "#ed7953"
            ],
            [
             0.7777777777777778,
             "#fb9f3a"
            ],
            [
             0.8888888888888888,
             "#fdca26"
            ],
            [
             1,
             "#f0f921"
            ]
           ],
           "sequentialminus": [
            [
             0,
             "#0d0887"
            ],
            [
             0.1111111111111111,
             "#46039f"
            ],
            [
             0.2222222222222222,
             "#7201a8"
            ],
            [
             0.3333333333333333,
             "#9c179e"
            ],
            [
             0.4444444444444444,
             "#bd3786"
            ],
            [
             0.5555555555555556,
             "#d8576b"
            ],
            [
             0.6666666666666666,
             "#ed7953"
            ],
            [
             0.7777777777777778,
             "#fb9f3a"
            ],
            [
             0.8888888888888888,
             "#fdca26"
            ],
            [
             1,
             "#f0f921"
            ]
           ]
          },
          "colorway": [
           "#636efa",
           "#EF553B",
           "#00cc96",
           "#ab63fa",
           "#FFA15A",
           "#19d3f3",
           "#FF6692",
           "#B6E880",
           "#FF97FF",
           "#FECB52"
          ],
          "font": {
           "color": "#2a3f5f"
          },
          "geo": {
           "bgcolor": "white",
           "lakecolor": "white",
           "landcolor": "#E5ECF6",
           "showlakes": true,
           "showland": true,
           "subunitcolor": "white"
          },
          "hoverlabel": {
           "align": "left"
          },
          "hovermode": "closest",
          "mapbox": {
           "style": "light"
          },
          "paper_bgcolor": "white",
          "plot_bgcolor": "#E5ECF6",
          "polar": {
           "angularaxis": {
            "gridcolor": "white",
            "linecolor": "white",
            "ticks": ""
           },
           "bgcolor": "#E5ECF6",
           "radialaxis": {
            "gridcolor": "white",
            "linecolor": "white",
            "ticks": ""
           }
          },
          "scene": {
           "xaxis": {
            "backgroundcolor": "#E5ECF6",
            "gridcolor": "white",
            "gridwidth": 2,
            "linecolor": "white",
            "showbackground": true,
            "ticks": "",
            "zerolinecolor": "white"
           },
           "yaxis": {
            "backgroundcolor": "#E5ECF6",
            "gridcolor": "white",
            "gridwidth": 2,
            "linecolor": "white",
            "showbackground": true,
            "ticks": "",
            "zerolinecolor": "white"
           },
           "zaxis": {
            "backgroundcolor": "#E5ECF6",
            "gridcolor": "white",
            "gridwidth": 2,
            "linecolor": "white",
            "showbackground": true,
            "ticks": "",
            "zerolinecolor": "white"
           }
          },
          "shapedefaults": {
           "line": {
            "color": "#2a3f5f"
           }
          },
          "ternary": {
           "aaxis": {
            "gridcolor": "white",
            "linecolor": "white",
            "ticks": ""
           },
           "baxis": {
            "gridcolor": "white",
            "linecolor": "white",
            "ticks": ""
           },
           "bgcolor": "#E5ECF6",
           "caxis": {
            "gridcolor": "white",
            "linecolor": "white",
            "ticks": ""
           }
          },
          "title": {
           "x": 0.05
          },
          "xaxis": {
           "automargin": true,
           "gridcolor": "white",
           "linecolor": "white",
           "ticks": "",
           "title": {
            "standoff": 15
           },
           "zerolinecolor": "white",
           "zerolinewidth": 2
          },
          "yaxis": {
           "automargin": true,
           "gridcolor": "white",
           "linecolor": "white",
           "ticks": "",
           "title": {
            "standoff": 15
           },
           "zerolinecolor": "white",
           "zerolinewidth": 2
          }
         }
        },
        "title": {
         "font": {
          "color": "#4D5663"
         }
        },
        "xaxis": {
         "gridcolor": "#E1E5ED",
         "showgrid": true,
         "tickfont": {
          "color": "#4D5663"
         },
         "title": {
          "font": {
           "color": "#4D5663"
          },
          "text": ""
         },
         "zerolinecolor": "#E1E5ED"
        },
        "yaxis": {
         "gridcolor": "#E1E5ED",
         "showgrid": true,
         "tickfont": {
          "color": "#4D5663"
         },
         "title": {
          "font": {
           "color": "#4D5663"
          },
          "text": ""
         },
         "zerolinecolor": "#E1E5ED"
        }
       }
      },
      "text/html": [
       "<div>                            <div id=\"8bb2bf12-7468-4ed6-b99b-08b284576dfa\" class=\"plotly-graph-div\" style=\"height:525px; width:100%;\"></div>            <script type=\"text/javascript\">                require([\"plotly\"], function(Plotly) {                    window.PLOTLYENV=window.PLOTLYENV || {};\n",
       "                    window.PLOTLYENV.BASE_URL='https://plot.ly';                                    if (document.getElementById(\"8bb2bf12-7468-4ed6-b99b-08b284576dfa\")) {                    Plotly.newPlot(                        \"8bb2bf12-7468-4ed6-b99b-08b284576dfa\",                        [{\"marker\": {\"color\": \"rgba(255, 153, 51, 0.6)\", \"line\": {\"color\": \"rgba(255, 153, 51, 1.0)\", \"width\": 1}}, \"name\": \"Industry Groups\", \"orientation\": \"v\", \"text\": \"\", \"type\": \"bar\", \"x\": [\"Financial Services\", \"Education\", \"Health Care\", \"Food and Beverage\", \"Commerce and Shopping\", \"Administrative Services\", \"Transportation\", \"Information Technology\", \"Manufacturing\", \"Other\", \"Professional Services\", \"Hardware\", \"Energy\", \"Internet Services\", \"Software\", \"Data and Analytics\", \"Real Estate\", \"Community and Lifestyle\", \"Travel and Tourism\", \"Events\", \"Content and Publishing\", \"Sales and Marketing\", \"Advertising\", \"Agriculture and Farming\", \"Biotechnology\", \"Sports\", \"Gaming\", \"Consumer Goods\", \"Media and Entertainment\", \"Apps\", \"Consumer Electronics\", \"Privacy and Security\", \"Clothing and Apparel\", \"Government and Military\", \"Design\", \"Mobile\", \"Sustainability\", \"Science and Engineering\", \"Natural Resources\", \"Navigation and Mapping\"], \"y\": [2093, 1032, 947, 941, 750, 666, 555, 506, 410, 392, 375, 364, 328, 288, 271, 224, 220, 206, 175, 161, 160, 136, 101, 82, 82, 76, 75, 68, 57, 50, 47, 40, 38, 33, 30, 23, 11, 11, 5, 2]}],                        {\"legend\": {\"bgcolor\": \"#F5F6F9\", \"font\": {\"color\": \"#4D5663\"}}, \"paper_bgcolor\": \"#F5F6F9\", \"plot_bgcolor\": \"#F5F6F9\", \"template\": {\"data\": {\"bar\": [{\"error_x\": {\"color\": \"#2a3f5f\"}, \"error_y\": {\"color\": \"#2a3f5f\"}, \"marker\": {\"line\": {\"color\": \"#E5ECF6\", \"width\": 0.5}}, \"type\": \"bar\"}], \"barpolar\": [{\"marker\": {\"line\": {\"color\": \"#E5ECF6\", \"width\": 0.5}}, \"type\": \"barpolar\"}], \"carpet\": [{\"aaxis\": {\"endlinecolor\": \"#2a3f5f\", \"gridcolor\": \"white\", \"linecolor\": \"white\", \"minorgridcolor\": \"white\", \"startlinecolor\": \"#2a3f5f\"}, \"baxis\": {\"endlinecolor\": \"#2a3f5f\", \"gridcolor\": \"white\", \"linecolor\": \"white\", \"minorgridcolor\": \"white\", \"startlinecolor\": \"#2a3f5f\"}, \"type\": \"carpet\"}], \"choropleth\": [{\"colorbar\": {\"outlinewidth\": 0, \"ticks\": \"\"}, \"type\": \"choropleth\"}], \"contour\": [{\"colorbar\": {\"outlinewidth\": 0, \"ticks\": \"\"}, \"colorscale\": [[0.0, \"#0d0887\"], [0.1111111111111111, \"#46039f\"], [0.2222222222222222, \"#7201a8\"], [0.3333333333333333, \"#9c179e\"], [0.4444444444444444, \"#bd3786\"], [0.5555555555555556, \"#d8576b\"], [0.6666666666666666, \"#ed7953\"], [0.7777777777777778, \"#fb9f3a\"], [0.8888888888888888, \"#fdca26\"], [1.0, \"#f0f921\"]], \"type\": \"contour\"}], \"contourcarpet\": [{\"colorbar\": {\"outlinewidth\": 0, \"ticks\": \"\"}, \"type\": \"contourcarpet\"}], \"heatmap\": [{\"colorbar\": {\"outlinewidth\": 0, \"ticks\": \"\"}, \"colorscale\": [[0.0, \"#0d0887\"], [0.1111111111111111, \"#46039f\"], [0.2222222222222222, \"#7201a8\"], [0.3333333333333333, \"#9c179e\"], [0.4444444444444444, \"#bd3786\"], [0.5555555555555556, \"#d8576b\"], [0.6666666666666666, \"#ed7953\"], [0.7777777777777778, \"#fb9f3a\"], [0.8888888888888888, \"#fdca26\"], [1.0, \"#f0f921\"]], \"type\": \"heatmap\"}], \"heatmapgl\": [{\"colorbar\": {\"outlinewidth\": 0, \"ticks\": \"\"}, \"colorscale\": [[0.0, \"#0d0887\"], [0.1111111111111111, \"#46039f\"], [0.2222222222222222, \"#7201a8\"], [0.3333333333333333, \"#9c179e\"], [0.4444444444444444, \"#bd3786\"], [0.5555555555555556, \"#d8576b\"], [0.6666666666666666, \"#ed7953\"], [0.7777777777777778, \"#fb9f3a\"], [0.8888888888888888, \"#fdca26\"], [1.0, \"#f0f921\"]], \"type\": \"heatmapgl\"}], \"histogram\": [{\"marker\": {\"colorbar\": {\"outlinewidth\": 0, \"ticks\": \"\"}}, \"type\": \"histogram\"}], \"histogram2d\": [{\"colorbar\": {\"outlinewidth\": 0, \"ticks\": \"\"}, \"colorscale\": [[0.0, \"#0d0887\"], [0.1111111111111111, \"#46039f\"], [0.2222222222222222, \"#7201a8\"], [0.3333333333333333, \"#9c179e\"], [0.4444444444444444, \"#bd3786\"], [0.5555555555555556, \"#d8576b\"], [0.6666666666666666, \"#ed7953\"], [0.7777777777777778, \"#fb9f3a\"], [0.8888888888888888, \"#fdca26\"], [1.0, \"#f0f921\"]], \"type\": \"histogram2d\"}], \"histogram2dcontour\": [{\"colorbar\": {\"outlinewidth\": 0, \"ticks\": \"\"}, \"colorscale\": [[0.0, \"#0d0887\"], [0.1111111111111111, \"#46039f\"], [0.2222222222222222, \"#7201a8\"], [0.3333333333333333, \"#9c179e\"], [0.4444444444444444, \"#bd3786\"], [0.5555555555555556, \"#d8576b\"], [0.6666666666666666, \"#ed7953\"], [0.7777777777777778, \"#fb9f3a\"], [0.8888888888888888, \"#fdca26\"], [1.0, \"#f0f921\"]], \"type\": \"histogram2dcontour\"}], \"mesh3d\": [{\"colorbar\": {\"outlinewidth\": 0, \"ticks\": \"\"}, \"type\": \"mesh3d\"}], \"parcoords\": [{\"line\": {\"colorbar\": {\"outlinewidth\": 0, \"ticks\": \"\"}}, \"type\": \"parcoords\"}], \"pie\": [{\"automargin\": true, \"type\": \"pie\"}], \"scatter\": [{\"marker\": {\"colorbar\": {\"outlinewidth\": 0, \"ticks\": \"\"}}, \"type\": \"scatter\"}], \"scatter3d\": [{\"line\": {\"colorbar\": {\"outlinewidth\": 0, \"ticks\": \"\"}}, \"marker\": {\"colorbar\": {\"outlinewidth\": 0, \"ticks\": \"\"}}, \"type\": \"scatter3d\"}], \"scattercarpet\": [{\"marker\": {\"colorbar\": {\"outlinewidth\": 0, \"ticks\": \"\"}}, \"type\": \"scattercarpet\"}], \"scattergeo\": [{\"marker\": {\"colorbar\": {\"outlinewidth\": 0, \"ticks\": \"\"}}, \"type\": \"scattergeo\"}], \"scattergl\": [{\"marker\": {\"colorbar\": {\"outlinewidth\": 0, \"ticks\": \"\"}}, \"type\": \"scattergl\"}], \"scattermapbox\": [{\"marker\": {\"colorbar\": {\"outlinewidth\": 0, \"ticks\": \"\"}}, \"type\": \"scattermapbox\"}], \"scatterpolar\": [{\"marker\": {\"colorbar\": {\"outlinewidth\": 0, \"ticks\": \"\"}}, \"type\": \"scatterpolar\"}], \"scatterpolargl\": [{\"marker\": {\"colorbar\": {\"outlinewidth\": 0, \"ticks\": \"\"}}, \"type\": \"scatterpolargl\"}], \"scatterternary\": [{\"marker\": {\"colorbar\": {\"outlinewidth\": 0, \"ticks\": \"\"}}, \"type\": \"scatterternary\"}], \"surface\": [{\"colorbar\": {\"outlinewidth\": 0, \"ticks\": \"\"}, \"colorscale\": [[0.0, \"#0d0887\"], [0.1111111111111111, \"#46039f\"], [0.2222222222222222, \"#7201a8\"], [0.3333333333333333, \"#9c179e\"], [0.4444444444444444, \"#bd3786\"], [0.5555555555555556, \"#d8576b\"], [0.6666666666666666, \"#ed7953\"], [0.7777777777777778, \"#fb9f3a\"], [0.8888888888888888, \"#fdca26\"], [1.0, \"#f0f921\"]], \"type\": \"surface\"}], \"table\": [{\"cells\": {\"fill\": {\"color\": \"#EBF0F8\"}, \"line\": {\"color\": \"white\"}}, \"header\": {\"fill\": {\"color\": \"#C8D4E3\"}, \"line\": {\"color\": \"white\"}}, \"type\": \"table\"}]}, \"layout\": {\"annotationdefaults\": {\"arrowcolor\": \"#2a3f5f\", \"arrowhead\": 0, \"arrowwidth\": 1}, \"autotypenumbers\": \"strict\", \"coloraxis\": {\"colorbar\": {\"outlinewidth\": 0, \"ticks\": \"\"}}, \"colorscale\": {\"diverging\": [[0, \"#8e0152\"], [0.1, \"#c51b7d\"], [0.2, \"#de77ae\"], [0.3, \"#f1b6da\"], [0.4, \"#fde0ef\"], [0.5, \"#f7f7f7\"], [0.6, \"#e6f5d0\"], [0.7, \"#b8e186\"], [0.8, \"#7fbc41\"], [0.9, \"#4d9221\"], [1, \"#276419\"]], \"sequential\": [[0.0, \"#0d0887\"], [0.1111111111111111, \"#46039f\"], [0.2222222222222222, \"#7201a8\"], [0.3333333333333333, \"#9c179e\"], [0.4444444444444444, \"#bd3786\"], [0.5555555555555556, \"#d8576b\"], [0.6666666666666666, \"#ed7953\"], [0.7777777777777778, \"#fb9f3a\"], [0.8888888888888888, \"#fdca26\"], [1.0, \"#f0f921\"]], \"sequentialminus\": [[0.0, \"#0d0887\"], [0.1111111111111111, \"#46039f\"], [0.2222222222222222, \"#7201a8\"], [0.3333333333333333, \"#9c179e\"], [0.4444444444444444, \"#bd3786\"], [0.5555555555555556, \"#d8576b\"], [0.6666666666666666, \"#ed7953\"], [0.7777777777777778, \"#fb9f3a\"], [0.8888888888888888, \"#fdca26\"], [1.0, \"#f0f921\"]]}, \"colorway\": [\"#636efa\", \"#EF553B\", \"#00cc96\", \"#ab63fa\", \"#FFA15A\", \"#19d3f3\", \"#FF6692\", \"#B6E880\", \"#FF97FF\", \"#FECB52\"], \"font\": {\"color\": \"#2a3f5f\"}, \"geo\": {\"bgcolor\": \"white\", \"lakecolor\": \"white\", \"landcolor\": \"#E5ECF6\", \"showlakes\": true, \"showland\": true, \"subunitcolor\": \"white\"}, \"hoverlabel\": {\"align\": \"left\"}, \"hovermode\": \"closest\", \"mapbox\": {\"style\": \"light\"}, \"paper_bgcolor\": \"white\", \"plot_bgcolor\": \"#E5ECF6\", \"polar\": {\"angularaxis\": {\"gridcolor\": \"white\", \"linecolor\": \"white\", \"ticks\": \"\"}, \"bgcolor\": \"#E5ECF6\", \"radialaxis\": {\"gridcolor\": \"white\", \"linecolor\": \"white\", \"ticks\": \"\"}}, \"scene\": {\"xaxis\": {\"backgroundcolor\": \"#E5ECF6\", \"gridcolor\": \"white\", \"gridwidth\": 2, \"linecolor\": \"white\", \"showbackground\": true, \"ticks\": \"\", \"zerolinecolor\": \"white\"}, \"yaxis\": {\"backgroundcolor\": \"#E5ECF6\", \"gridcolor\": \"white\", \"gridwidth\": 2, \"linecolor\": \"white\", \"showbackground\": true, \"ticks\": \"\", \"zerolinecolor\": \"white\"}, \"zaxis\": {\"backgroundcolor\": \"#E5ECF6\", \"gridcolor\": \"white\", \"gridwidth\": 2, \"linecolor\": \"white\", \"showbackground\": true, \"ticks\": \"\", \"zerolinecolor\": \"white\"}}, \"shapedefaults\": {\"line\": {\"color\": \"#2a3f5f\"}}, \"ternary\": {\"aaxis\": {\"gridcolor\": \"white\", \"linecolor\": \"white\", \"ticks\": \"\"}, \"baxis\": {\"gridcolor\": \"white\", \"linecolor\": \"white\", \"ticks\": \"\"}, \"bgcolor\": \"#E5ECF6\", \"caxis\": {\"gridcolor\": \"white\", \"linecolor\": \"white\", \"ticks\": \"\"}}, \"title\": {\"x\": 0.05}, \"xaxis\": {\"automargin\": true, \"gridcolor\": \"white\", \"linecolor\": \"white\", \"ticks\": \"\", \"title\": {\"standoff\": 15}, \"zerolinecolor\": \"white\", \"zerolinewidth\": 2}, \"yaxis\": {\"automargin\": true, \"gridcolor\": \"white\", \"linecolor\": \"white\", \"ticks\": \"\", \"title\": {\"standoff\": 15}, \"zerolinecolor\": \"white\", \"zerolinewidth\": 2}}}, \"title\": {\"font\": {\"color\": \"#4D5663\"}}, \"xaxis\": {\"gridcolor\": \"#E1E5ED\", \"showgrid\": true, \"tickfont\": {\"color\": \"#4D5663\"}, \"title\": {\"font\": {\"color\": \"#4D5663\"}, \"text\": \"\"}, \"zerolinecolor\": \"#E1E5ED\"}, \"yaxis\": {\"gridcolor\": \"#E1E5ED\", \"showgrid\": true, \"tickfont\": {\"color\": \"#4D5663\"}, \"title\": {\"font\": {\"color\": \"#4D5663\"}, \"text\": \"\"}, \"zerolinecolor\": \"#E1E5ED\"}},                        {\"showLink\": true, \"linkText\": \"Export to plot.ly\", \"plotlyServerURL\": \"https://plot.ly\", \"responsive\": true}                    ).then(function(){\n",
       "                            \n",
       "var gd = document.getElementById('8bb2bf12-7468-4ed6-b99b-08b284576dfa');\n",
       "var x = new MutationObserver(function (mutations, observer) {{\n",
       "        var display = window.getComputedStyle(gd).display;\n",
       "        if (!display || display === 'none') {{\n",
       "            console.log([gd, 'removed!']);\n",
       "            Plotly.purge(gd);\n",
       "            observer.disconnect();\n",
       "        }}\n",
       "}});\n",
       "\n",
       "// Listen for the removal of the full notebook cells\n",
       "var notebookContainer = gd.closest('#notebook-container');\n",
       "if (notebookContainer) {{\n",
       "    x.observe(notebookContainer, {childList: true});\n",
       "}}\n",
       "\n",
       "// Listen for the clearing of the current output cell\n",
       "var outputEl = gd.closest('.output');\n",
       "if (outputEl) {{\n",
       "    x.observe(outputEl, {childList: true});\n",
       "}}\n",
       "\n",
       "                        })                };                });            </script>        </div>"
      ]
     },
     "metadata": {},
     "output_type": "display_data"
    }
   ],
   "source": [
    "# https://stackoverflow.com/questions/55132071/series-object-has-no-attribute-iplot/55132247\n",
    "import cufflinks as cf\n",
    "cf.go_offline()\n",
    "cf.set_config_file(offline=False, world_readable=True)\n",
    "\n",
    "df['Industry Groups'].value_counts().iplot(kind='bar')"
   ]
  },
  {
   "cell_type": "code",
   "execution_count": 50,
   "id": "ae804b7f",
   "metadata": {},
   "outputs": [],
   "source": [
    "# https://github.com/susanli2016/NLP-with-Python/blob/master/Doc2Vec%20Consumer%20Complaint.ipynb\n",
    "    \n",
    "from bs4 import BeautifulSoup\n",
    "def cleanText(text):\n",
    "    text = re.sub(r'\\|\\|\\|', r' ', text) \n",
    "    text = re.sub(r'http\\S+', r'<URL>', text)\n",
    "    text = text.lower()\n",
    "    text = text.replace('x', '')\n",
    "    return text\n",
    "\n",
    "df['Full Description'] = df['Full Description'].apply(cleanText)"
   ]
  },
  {
   "cell_type": "code",
   "execution_count": 51,
   "id": "d11d1f6f",
   "metadata": {},
   "outputs": [
    {
     "name": "stdout",
     "output_type": "stream",
     "text": [
      "Found 40476 unique tokens.\n"
     ]
    }
   ],
   "source": [
    "# The maximum number of words to be used. (most frequent)\n",
    "MAX_NB_WORDS = 50000\n",
    "# Max number of words in each complaint.\n",
    "MAX_SEQUENCE_LENGTH = 250\n",
    "# This is fixed.\n",
    "EMBEDDING_DIM = 100\n",
    "\n",
    "tokenizer = Tokenizer(num_words=MAX_NB_WORDS, filters='!\"#$%&()*+,-./:;<=>?@[\\]^_`{|}~', lower=True)\n",
    "tokenizer.fit_on_texts(df['Full Description'].values)\n",
    "word_index = tokenizer.word_index\n",
    "print('Found %s unique tokens.' % len(word_index))"
   ]
  },
  {
   "cell_type": "code",
   "execution_count": 52,
   "id": "aa6c11d3",
   "metadata": {},
   "outputs": [
    {
     "name": "stdout",
     "output_type": "stream",
     "text": [
      "Shape of data tensor: (12031, 250)\n"
     ]
    }
   ],
   "source": [
    "X = tokenizer.texts_to_sequences(df['Full Description'].values)\n",
    "X = pad_sequences(X, maxlen=MAX_SEQUENCE_LENGTH)\n",
    "print('Shape of data tensor:', X.shape)"
   ]
  },
  {
   "cell_type": "code",
   "execution_count": 53,
   "id": "dd749833",
   "metadata": {},
   "outputs": [
    {
     "name": "stdout",
     "output_type": "stream",
     "text": [
      "Shape of label tensor: (12031, 40)\n"
     ]
    }
   ],
   "source": [
    "Y = pd.get_dummies(df['Industry Groups']).values\n",
    "print('Shape of label tensor:', Y.shape)"
   ]
  },
  {
   "cell_type": "code",
   "execution_count": 54,
   "id": "ecc0d812",
   "metadata": {},
   "outputs": [
    {
     "name": "stdout",
     "output_type": "stream",
     "text": [
      "(10827, 250) (10827, 40)\n",
      "(1204, 250) (1204, 40)\n"
     ]
    }
   ],
   "source": [
    "X_train, X_test, Y_train, Y_test = train_test_split(X,Y, test_size = 0.10, random_state = 42)\n",
    "print(X_train.shape,Y_train.shape)\n",
    "print(X_test.shape,Y_test.shape)"
   ]
  },
  {
   "cell_type": "code",
   "execution_count": 55,
   "id": "67b77fe4",
   "metadata": {},
   "outputs": [
    {
     "name": "stdout",
     "output_type": "stream",
     "text": [
      "Model: \"sequential_2\"\n",
      "_________________________________________________________________\n",
      "Layer (type)                 Output Shape              Param #   \n",
      "=================================================================\n",
      "embedding_2 (Embedding)      (None, 250, 100)          5000000   \n",
      "_________________________________________________________________\n",
      "spatial_dropout1d_2 (Spatial (None, 250, 100)          0         \n",
      "_________________________________________________________________\n",
      "lstm_2 (LSTM)                (None, 100)               80400     \n",
      "_________________________________________________________________\n",
      "dense_2 (Dense)              (None, 40)                4040      \n",
      "=================================================================\n",
      "Total params: 5,084,440\n",
      "Trainable params: 5,084,440\n",
      "Non-trainable params: 0\n",
      "_________________________________________________________________\n",
      "None\n"
     ]
    }
   ],
   "source": [
    "model = Sequential()\n",
    "model.add(Embedding(MAX_NB_WORDS, EMBEDDING_DIM, input_length=X.shape[1]))\n",
    "model.add(SpatialDropout1D(0.2))\n",
    "model.add(LSTM(100, dropout=0.2, recurrent_dropout=0.2))\n",
    "model.add(Dense(40, activation='softmax'))\n",
    "model.compile(loss='categorical_crossentropy', optimizer='adam', metrics=['accuracy'])\n",
    "print(model.summary())"
   ]
  },
  {
   "cell_type": "code",
   "execution_count": 56,
   "id": "78a80d6f",
   "metadata": {},
   "outputs": [
    {
     "name": "stderr",
     "output_type": "stream",
     "text": [
      "/Users/holdenbruce/opt/anaconda3/lib/python3.7/site-packages/tensorflow_core/python/framework/indexed_slices.py:424: UserWarning:\n",
      "\n",
      "Converting sparse IndexedSlices to a dense Tensor of unknown shape. This may consume a large amount of memory.\n",
      "\n"
     ]
    },
    {
     "name": "stdout",
     "output_type": "stream",
     "text": [
      "Train on 9744 samples, validate on 1083 samples\n",
      "Epoch 1/5\n",
      "9744/9744 [==============================] - 158s 16ms/step - loss: 3.1295 - accuracy: 0.1692 - val_loss: 3.0949 - val_accuracy: 0.1727\n",
      "Epoch 2/5\n",
      "9744/9744 [==============================] - 168s 17ms/step - loss: 2.9900 - accuracy: 0.1959 - val_loss: 2.8361 - val_accuracy: 0.2595\n",
      "Epoch 3/5\n",
      "9744/9744 [==============================] - 174s 18ms/step - loss: 2.5419 - accuracy: 0.3417 - val_loss: 2.6753 - val_accuracy: 0.3343\n",
      "Epoch 4/5\n",
      "9744/9744 [==============================] - 180s 19ms/step - loss: 2.2232 - accuracy: 0.4156 - val_loss: 2.2770 - val_accuracy: 0.4109\n",
      "Epoch 5/5\n",
      "9744/9744 [==============================] - 183s 19ms/step - loss: 1.8826 - accuracy: 0.5005 - val_loss: 2.3398 - val_accuracy: 0.4100\n"
     ]
    }
   ],
   "source": [
    "epochs = 5\n",
    "batch_size = 64\n",
    "\n",
    "history = model.fit(X_train, Y_train, epochs=epochs, batch_size=batch_size,validation_split=0.1,callbacks=[EarlyStopping(monitor='val_loss', patience=3, min_delta=0.0001)])"
   ]
  },
  {
   "cell_type": "code",
   "execution_count": 57,
   "id": "b1d0a43a",
   "metadata": {},
   "outputs": [
    {
     "name": "stdout",
     "output_type": "stream",
     "text": [
      "1204/1204 [==============================] - 9s 8ms/step\n",
      "Test set\n",
      "  Loss: 2.301\n",
      "  Accuracy: 0.419\n"
     ]
    }
   ],
   "source": [
    "accr = model.evaluate(X_test,Y_test)\n",
    "print('Test set\\n  Loss: {:0.3f}\\n  Accuracy: {:0.3f}'.format(accr[0],accr[1]))\n"
   ]
  },
  {
   "cell_type": "code",
   "execution_count": 58,
   "id": "653a7028",
   "metadata": {},
   "outputs": [
    {
     "data": {
      "image/png": "[encoded data removed]",
      "text/plain": [
       "<Figure size 432x288 with 1 Axes>"
      ]
     },
     "metadata": {
      "needs_background": "light"
     },
     "output_type": "display_data"
    }
   ],
   "source": [
    "plt.title('Loss')\n",
    "plt.plot(history.history['loss'], label='train')\n",
    "plt.plot(history.history['val_loss'], label='test')\n",
    "plt.legend()\n",
    "plt.show();\n"
   ]
  },
  {
   "cell_type": "markdown",
   "id": "8213ec22",
   "metadata": {},
   "source": [
    "### Testing some examples:"
   ]
  },
  {
   "cell_type": "code",
   "execution_count": 59,
   "id": "113a4da1",
   "metadata": {},
   "outputs": [
    {
     "data": {
      "text/html": [
       "<div>\n",
       "<style scoped>\n",
       "    .dataframe tbody tr th:only-of-type {\n",
       "        vertical-align: middle;\n",
       "    }\n",
       "\n",
       "    .dataframe tbody tr th {\n",
       "        vertical-align: top;\n",
       "    }\n",
       "\n",
       "    .dataframe thead th {\n",
       "        text-align: right;\n",
       "    }\n",
       "</style>\n",
       "<table border=\"1\" class=\"dataframe\">\n",
       "  <thead>\n",
       "    <tr style=\"text-align: right;\">\n",
       "      <th></th>\n",
       "      <th>company_num</th>\n",
       "      <th>Organization Name</th>\n",
       "      <th>Industries</th>\n",
       "      <th>Industry Groups</th>\n",
       "      <th>Full Description</th>\n",
       "    </tr>\n",
       "  </thead>\n",
       "  <tbody>\n",
       "    <tr>\n",
       "      <th>3528</th>\n",
       "      <td>2117</td>\n",
       "      <td>Palo Alto Networks</td>\n",
       "      <td>Cyber Security,  Network Security,  Security</td>\n",
       "      <td>Information Technology</td>\n",
       "      <td>palo alto networks is the net-generation secur...</td>\n",
       "    </tr>\n",
       "    <tr>\n",
       "      <th>327</th>\n",
       "      <td>9534</td>\n",
       "      <td>SteadyMD</td>\n",
       "      <td>Health Care,  Medical,  Wellness</td>\n",
       "      <td>Health Care</td>\n",
       "      <td>steadymd is a telehealth company that enables ...</td>\n",
       "    </tr>\n",
       "    <tr>\n",
       "      <th>10052</th>\n",
       "      <td>36622</td>\n",
       "      <td>Wolo</td>\n",
       "      <td>Employee Benefits,  Human Resources</td>\n",
       "      <td>Administrative Services</td>\n",
       "      <td>wolo is a new corporate rewards and recognitio...</td>\n",
       "    </tr>\n",
       "    <tr>\n",
       "      <th>6121</th>\n",
       "      <td>17390</td>\n",
       "      <td>Verimed</td>\n",
       "      <td>Health Care,  Supply Chain Management</td>\n",
       "      <td>Health Care</td>\n",
       "      <td>verimed is a technology company that works to ...</td>\n",
       "    </tr>\n",
       "    <tr>\n",
       "      <th>6329</th>\n",
       "      <td>18992</td>\n",
       "      <td>the Roadmap</td>\n",
       "      <td>EdTech,  Education,  Enterprise Software,  SaaS</td>\n",
       "      <td>Education</td>\n",
       "      <td>part learning method  with the proven know : p...</td>\n",
       "    </tr>\n",
       "  </tbody>\n",
       "</table>\n",
       "</div>"
      ],
      "text/plain": [
       "       company_num   Organization Name  \\\n",
       "3528          2117  Palo Alto Networks   \n",
       "327           9534            SteadyMD   \n",
       "10052        36622                Wolo   \n",
       "6121         17390             Verimed   \n",
       "6329         18992         the Roadmap   \n",
       "\n",
       "                                            Industries  \\\n",
       "3528      Cyber Security,  Network Security,  Security   \n",
       "327                   Health Care,  Medical,  Wellness   \n",
       "10052              Employee Benefits,  Human Resources   \n",
       "6121             Health Care,  Supply Chain Management   \n",
       "6329   EdTech,  Education,  Enterprise Software,  SaaS   \n",
       "\n",
       "               Industry Groups  \\\n",
       "3528    Information Technology   \n",
       "327                Health Care   \n",
       "10052  Administrative Services   \n",
       "6121               Health Care   \n",
       "6329                 Education   \n",
       "\n",
       "                                        Full Description  \n",
       "3528   palo alto networks is the net-generation secur...  \n",
       "327    steadymd is a telehealth company that enables ...  \n",
       "10052  wolo is a new corporate rewards and recognitio...  \n",
       "6121   verimed is a technology company that works to ...  \n",
       "6329   part learning method  with the proven know : p...  "
      ]
     },
     "execution_count": 59,
     "metadata": {},
     "output_type": "execute_result"
    }
   ],
   "source": [
    "df.sample(5)"
   ]
  },
  {
   "cell_type": "code",
   "execution_count": 63,
   "id": "d1c72ad2",
   "metadata": {},
   "outputs": [
    {
     "data": {
      "text/plain": [
       "'vemo education is a mission-driven educational technology company focused on epanding educational access for all americans. we partner directly with colleges, universities, and other educational providers to design, implement, and sustain income share agreement (isa) programs to help increase educational opportunity and reduce financial barriers to economic mobility.'"
      ]
     },
     "execution_count": 63,
     "metadata": {},
     "output_type": "execute_result"
    }
   ],
   "source": [
    "df[df['company_num']==7034]['Full Description'].reset_index(drop=True)[0]"
   ]
  },
  {
   "cell_type": "code",
   "execution_count": 64,
   "id": "85948b34",
   "metadata": {},
   "outputs": [
    {
     "name": "stdout",
     "output_type": "stream",
     "text": [
      "[[3.96285392e-03 2.54821219e-03 6.60113001e-04 1.54406216e-03\n",
      "  4.58947645e-04 1.20471668e-04 2.34990148e-03 2.12845090e-03\n",
      "  7.92109931e-04 3.32286407e-04 4.24690824e-03 3.20088211e-03\n",
      "  4.47253464e-04 8.64397347e-01 3.73555487e-03 4.63256706e-03\n",
      "  2.07282277e-03 9.26155073e-04 9.13505792e-04 2.11780876e-04\n",
      "  7.47393863e-03 4.82071919e-04 1.33987376e-02 1.54748000e-02\n",
      "  9.64994659e-04 3.39303369e-04 2.12197148e-04 2.65098606e-05\n",
      "  7.56566733e-05 2.19694320e-02 7.05072947e-04 5.28852921e-03\n",
      "  1.41791604e-03 6.89153047e-03 1.18864024e-04 2.00200956e-02\n",
      "  1.59540994e-03 1.05796615e-04 6.70648937e-04 3.08631361e-03]] Manufacturing\n"
     ]
    }
   ],
   "source": [
    "new_complaint = ['vemo education is a mission-driven educational technology company focused on epanding educational access for all americans. we partner directly with colleges, universities, and other educational providers to design, implement, and sustain income share agreement (isa) programs to help increase educational opportunity and reduce financial barriers to economic mobility.']\n",
    "seq = tokenizer.texts_to_sequences(new_complaint)\n",
    "\n",
    "padded = pad_sequences(seq, maxlen=MAX_SEQUENCE_LENGTH)\n",
    "pred = model.predict(padded)\n",
    "labels = df['Industry Groups'].values\n",
    "print(pred, labels[np.argmax(pred)])"
   ]
  },
  {
   "cell_type": "markdown",
   "id": "157bf761",
   "metadata": {},
   "source": [
    "**If it can't correctly classify an Education company where \"education\" is used multiple times and the words \"college\" and \"universities\" are in the description, then this model is useless.**"
   ]
  },
  {
   "cell_type": "code",
   "execution_count": null,
   "id": "007d4516",
   "metadata": {},
   "outputs": [],
   "source": []
  },
  {
   "cell_type": "code",
   "execution_count": null,
   "id": "af0ebb5d",
   "metadata": {},
   "outputs": [],
   "source": []
  },
  {
   "cell_type": "markdown",
   "id": "7dd7dca0",
   "metadata": {},
   "source": [
    "# Logistic Regression"
   ]
  },
  {
   "cell_type": "code",
   "execution_count": 5,
   "id": "04f3a59a",
   "metadata": {},
   "outputs": [],
   "source": [
    "import pandas as pd\n",
    "from sklearn.feature_extraction.text import TfidfVectorizer, CountVectorizer\n",
    "from sklearn.naive_bayes import MultinomialNB\n",
    "from sklearn.model_selection import train_test_split\n",
    "from sklearn.metrics import classification_report, accuracy_score\n",
    "from sklearn.ensemble import RandomForestClassifier\n",
    "from sklearn.svm import LinearSVC\n",
    "from sklearn.svm import SVC\n",
    "from sklearn.linear_model import LogisticRegression\n",
    "import numpy as np\n",
    "import xgboost as xgb\n",
    "from sklearn import preprocessing\n",
    "from sklearn.model_selection import learning_curve\n",
    "from sklearn.model_selection import ShuffleSplit\n",
    "import matplotlib.pyplot as plt\n",
    "from sklearn import preprocessing, decomposition\n",
    "from sklearn.decomposition import TruncatedSVD\n",
    "from sklearn.metrics import confusion_matrix\n",
    "import itertools\n",
    "from nltk.corpus import stopwords\n",
    "import re\n",
    "from bs4 import BeautifulSoup\n",
    "%matplotlib inline\n",
    "#from yellowbrick.text import FreqDistVisualizer"
   ]
  },
  {
   "cell_type": "code",
   "execution_count": 6,
   "id": "8f898992",
   "metadata": {},
   "outputs": [],
   "source": [
    "lbl_enc = preprocessing.LabelEncoder()\n",
    "y = lbl_enc.fit_transform(df['Industry Groups'].values)\n",
    "X_train, X_test, y_train, y_test = train_test_split(df['Full Description'].values, y,\n",
    "                                                   stratify=y, \n",
    "                                                   random_state=42, test_size=0.3)"
   ]
  },
  {
   "cell_type": "code",
   "execution_count": 7,
   "id": "aa6a335c",
   "metadata": {},
   "outputs": [],
   "source": [
    "tfidf = TfidfVectorizer(strip_accents='unicode', analyzer='word',token_pattern=r'\\w{1,}',\n",
    "            ngram_range=(1, 3), use_idf=True,smooth_idf=True,sublinear_tf=True,\n",
    "            stop_words = 'english')\n",
    "# Fit and transform Tf-idf to both training and test sets\n",
    "tfidf.fit(list(X_train) + list(X_test))\n",
    "X_train_tfidf =  tfidf.transform(X_train) \n",
    "X_test_tfidf = tfidf.transform(X_test)"
   ]
  },
  {
   "cell_type": "code",
   "execution_count": 9,
   "id": "d5818dd7",
   "metadata": {},
   "outputs": [],
   "source": [
    "target_names = lbl_enc.classes_"
   ]
  },
  {
   "cell_type": "code",
   "execution_count": 10,
   "id": "e3f85aea",
   "metadata": {},
   "outputs": [
    {
     "data": {
      "text/plain": [
       "40"
      ]
     },
     "execution_count": 10,
     "metadata": {},
     "output_type": "execute_result"
    }
   ],
   "source": [
    "# len(lbl_enc.classes_)\n",
    "# len(X_train['Industry Groups'].values)\n",
    "len(df['Industry Groups'].unique())"
   ]
  },
  {
   "cell_type": "markdown",
   "id": "78ff4490",
   "metadata": {},
   "source": [
    "## Fitting Logistic Regression on TF-IDF"
   ]
  },
  {
   "cell_type": "code",
   "execution_count": 11,
   "id": "47b5fb42",
   "metadata": {},
   "outputs": [
    {
     "data": {
      "text/plain": [
       "(8421, 947820)"
      ]
     },
     "execution_count": 11,
     "metadata": {},
     "output_type": "execute_result"
    }
   ],
   "source": [
    "X_train_tfidf.shape"
   ]
  },
  {
   "cell_type": "code",
   "execution_count": 12,
   "id": "035665a0",
   "metadata": {},
   "outputs": [
    {
     "name": "stdout",
     "output_type": "stream",
     "text": [
      "---Test Set Results---\n",
      "Accuracy with logreg: 0.4368421052631579\n",
      "                         precision    recall  f1-score   support\n",
      "\n",
      "Administrative Services       0.80      0.46      0.58       200\n",
      "            Advertising       0.00      0.00      0.00        30\n",
      "Agriculture and Farming       0.00      0.00      0.00        25\n",
      "                   Apps       0.00      0.00      0.00        15\n",
      "          Biotechnology       0.00      0.00      0.00        25\n",
      "   Clothing and Apparel       0.00      0.00      0.00        11\n",
      "  Commerce and Shopping       0.70      0.25      0.37       225\n",
      "Community and Lifestyle       0.00      0.00      0.00        62\n",
      "   Consumer Electronics       0.00      0.00      0.00        14\n",
      "         Consumer Goods       0.00      0.00      0.00        20\n",
      " Content and Publishing       0.00      0.00      0.00        48\n",
      "     Data and Analytics       0.00      0.00      0.00        67\n",
      "                 Design       0.00      0.00      0.00         9\n",
      "              Education       0.73      0.84      0.78       310\n",
      "                 Energy       0.97      0.30      0.45        98\n",
      "                 Events       0.00      0.00      0.00        48\n",
      "     Financial Services       0.27      0.98      0.42       628\n",
      "      Food and Beverage       0.72      0.83      0.77       282\n",
      "                 Gaming       0.00      0.00      0.00        23\n",
      "Government and Military       0.00      0.00      0.00        10\n",
      "               Hardware       1.00      0.05      0.09       109\n",
      "            Health Care       0.75      0.83      0.78       284\n",
      " Information Technology       0.71      0.03      0.06       152\n",
      "      Internet Services       1.00      0.01      0.02        86\n",
      "          Manufacturing       0.82      0.11      0.20       123\n",
      "Media and Entertainment       0.00      0.00      0.00        17\n",
      "                 Mobile       0.00      0.00      0.00         7\n",
      "      Natural Resources       0.00      0.00      0.00         1\n",
      " Navigation and Mapping       0.00      0.00      0.00         1\n",
      "                  Other       0.00      0.00      0.00       118\n",
      "   Privacy and Security       0.00      0.00      0.00        12\n",
      "  Professional Services       0.00      0.00      0.00       113\n",
      "            Real Estate       0.00      0.00      0.00        66\n",
      "    Sales and Marketing       0.00      0.00      0.00        41\n",
      "Science and Engineering       0.00      0.00      0.00         3\n",
      "               Software       0.00      0.00      0.00        81\n",
      "                 Sports       0.00      0.00      0.00        23\n",
      "         Sustainability       0.00      0.00      0.00         3\n",
      "         Transportation       0.58      0.20      0.30       167\n",
      "     Travel and Tourism       0.00      0.00      0.00        53\n",
      "\n",
      "               accuracy                           0.44      3610\n",
      "              macro avg       0.23      0.12      0.12      3610\n",
      "           weighted avg       0.48      0.44      0.36      3610\n",
      "\n"
     ]
    },
    {
     "name": "stderr",
     "output_type": "stream",
     "text": [
      "/Users/holdenbruce/opt/anaconda3/lib/python3.7/site-packages/sklearn/metrics/_classification.py:1245: UndefinedMetricWarning: Precision and F-score are ill-defined and being set to 0.0 in labels with no predicted samples. Use `zero_division` parameter to control this behavior.\n",
      "  _warn_prf(average, modifier, msg_start, len(result))\n",
      "/Users/holdenbruce/opt/anaconda3/lib/python3.7/site-packages/sklearn/metrics/_classification.py:1245: UndefinedMetricWarning: Precision and F-score are ill-defined and being set to 0.0 in labels with no predicted samples. Use `zero_division` parameter to control this behavior.\n",
      "  _warn_prf(average, modifier, msg_start, len(result))\n",
      "/Users/holdenbruce/opt/anaconda3/lib/python3.7/site-packages/sklearn/metrics/_classification.py:1245: UndefinedMetricWarning: Precision and F-score are ill-defined and being set to 0.0 in labels with no predicted samples. Use `zero_division` parameter to control this behavior.\n",
      "  _warn_prf(average, modifier, msg_start, len(result))\n"
     ]
    }
   ],
   "source": [
    "logregclf = LogisticRegression(max_iter=100000)\n",
    "logregclf.fit(X_train_tfidf, y_train)\n",
    "y_pred = logregclf.predict(X_test_tfidf)\n",
    "print(\"---Test Set Results---\")\n",
    "print(\"Accuracy with logreg: {}\".format(accuracy_score(y_test, y_pred)))\n",
    "print(classification_report(y_test, y_pred, target_names=target_names))"
   ]
  },
  {
   "cell_type": "markdown",
   "id": "d1b4de48",
   "metadata": {},
   "source": [
    "## Logistic Regression with BOW"
   ]
  },
  {
   "cell_type": "code",
   "execution_count": 8,
   "id": "b0ae3485",
   "metadata": {},
   "outputs": [],
   "source": [
    "countvec = CountVectorizer(analyzer='word',token_pattern=r'\\w{1,}',\n",
    "            ngram_range=(1, 3), stop_words = 'english', binary=True)\n",
    "# Fit and transform CountVectorizer to both training and test sets\n",
    "countvec.fit(list(X_train) + list(X_test))\n",
    "X_train_countvec =  countvec.transform(X_train) \n",
    "X_test_countvec = countvec.transform(X_test)"
   ]
  },
  {
   "cell_type": "code",
   "execution_count": 13,
   "id": "846c0bd6",
   "metadata": {},
   "outputs": [
    {
     "name": "stdout",
     "output_type": "stream",
     "text": [
      "---Test Set Results---\n",
      "Accuracy with logreg: 0.6155124653739612\n",
      "                         precision    recall  f1-score   support\n",
      "\n",
      "Administrative Services       0.63      0.69      0.66       200\n",
      "            Advertising       0.50      0.33      0.40        30\n",
      "Agriculture and Farming       0.00      0.00      0.00        25\n",
      "                   Apps       0.00      0.00      0.00        15\n",
      "          Biotechnology       1.00      0.28      0.44        25\n",
      "   Clothing and Apparel       0.50      0.18      0.27        11\n",
      "  Commerce and Shopping       0.53      0.55      0.54       225\n",
      "Community and Lifestyle       0.46      0.10      0.16        62\n",
      "   Consumer Electronics       0.00      0.00      0.00        14\n",
      "         Consumer Goods       0.00      0.00      0.00        20\n",
      " Content and Publishing       0.79      0.48      0.60        48\n",
      "     Data and Analytics       0.76      0.39      0.51        67\n",
      "                 Design       0.00      0.00      0.00         9\n",
      "              Education       0.71      0.87      0.78       310\n",
      "                 Energy       0.76      0.76      0.76        98\n",
      "                 Events       0.82      0.48      0.61        48\n",
      "     Financial Services       0.66      0.89      0.76       628\n",
      "      Food and Beverage       0.59      0.86      0.70       282\n",
      "                 Gaming       0.73      0.35      0.47        23\n",
      "Government and Military       0.00      0.00      0.00        10\n",
      "               Hardware       0.66      0.54      0.60       109\n",
      "            Health Care       0.73      0.87      0.79       284\n",
      " Information Technology       0.42      0.36      0.39       152\n",
      "      Internet Services       0.40      0.34      0.37        86\n",
      "          Manufacturing       0.60      0.63      0.62       123\n",
      "Media and Entertainment       0.00      0.00      0.00        17\n",
      "                 Mobile       0.00      0.00      0.00         7\n",
      "      Natural Resources       0.00      0.00      0.00         1\n",
      " Navigation and Mapping       0.00      0.00      0.00         1\n",
      "                  Other       0.43      0.22      0.29       118\n",
      "   Privacy and Security       0.00      0.00      0.00        12\n",
      "  Professional Services       0.47      0.24      0.32       113\n",
      "            Real Estate       0.40      0.27      0.32        66\n",
      "    Sales and Marketing       0.67      0.29      0.41        41\n",
      "Science and Engineering       0.00      0.00      0.00         3\n",
      "               Software       0.27      0.26      0.26        81\n",
      "                 Sports       0.00      0.00      0.00        23\n",
      "         Sustainability       0.00      0.00      0.00         3\n",
      "         Transportation       0.56      0.66      0.60       167\n",
      "     Travel and Tourism       0.56      0.51      0.53        53\n",
      "\n",
      "               accuracy                           0.62      3610\n",
      "              macro avg       0.39      0.31      0.33      3610\n",
      "           weighted avg       0.58      0.62      0.58      3610\n",
      "\n"
     ]
    },
    {
     "name": "stderr",
     "output_type": "stream",
     "text": [
      "/Users/holdenbruce/opt/anaconda3/lib/python3.7/site-packages/sklearn/metrics/_classification.py:1245: UndefinedMetricWarning: Precision and F-score are ill-defined and being set to 0.0 in labels with no predicted samples. Use `zero_division` parameter to control this behavior.\n",
      "  _warn_prf(average, modifier, msg_start, len(result))\n",
      "/Users/holdenbruce/opt/anaconda3/lib/python3.7/site-packages/sklearn/metrics/_classification.py:1245: UndefinedMetricWarning: Precision and F-score are ill-defined and being set to 0.0 in labels with no predicted samples. Use `zero_division` parameter to control this behavior.\n",
      "  _warn_prf(average, modifier, msg_start, len(result))\n",
      "/Users/holdenbruce/opt/anaconda3/lib/python3.7/site-packages/sklearn/metrics/_classification.py:1245: UndefinedMetricWarning: Precision and F-score are ill-defined and being set to 0.0 in labels with no predicted samples. Use `zero_division` parameter to control this behavior.\n",
      "  _warn_prf(average, modifier, msg_start, len(result))\n"
     ]
    }
   ],
   "source": [
    "logregclf = LogisticRegression()\n",
    "logregclf.fit(X_train_countvec, y_train)\n",
    "y_pred = logregclf.predict(X_test_countvec)\n",
    "print(\"---Test Set Results---\")\n",
    "print(\"Accuracy with logreg: {}\".format(accuracy_score(y_test, y_pred)))\n",
    "print(classification_report(y_test, y_pred, target_names=target_names))"
   ]
  },
  {
   "cell_type": "markdown",
   "id": "bf9d6752",
   "metadata": {},
   "source": [
    "# OneVsRest Classifier"
   ]
  },
  {
   "cell_type": "code",
   "execution_count": 14,
   "id": "8cd1c329",
   "metadata": {},
   "outputs": [
    {
     "data": {
      "text/plain": [
       "Pipeline(steps=[('vect', CountVectorizer()), ('tfidf', TfidfTransformer()),\n",
       "                ('svc', SVC())])"
      ]
     },
     "execution_count": 14,
     "metadata": {},
     "output_type": "execute_result"
    }
   ],
   "source": [
    "from sklearn.svm import SVC\n",
    "from sklearn.pipeline import Pipeline\n",
    "from sklearn.feature_extraction.text import TfidfTransformer\n",
    "\n",
    "svc = Pipeline([('vect', CountVectorizer()),\n",
    "               ('tfidf', TfidfTransformer()),\n",
    "               ('svc', SVC()),\n",
    "              ])\n",
    "svc.fit(X_train, y_train)"
   ]
  },
  {
   "cell_type": "code",
   "execution_count": 16,
   "id": "e84820d8",
   "metadata": {},
   "outputs": [],
   "source": [
    "from sklearn.multiclass import OneVsRestClassifier\n",
    "\n",
    "#https://scikit-learn.org/stable/modules/generated/sklearn.multiclass.OneVsRestClassifier.html\n",
    "\n",
    "from sklearn.svm import SVC\n",
    "from sklearn.pipeline import Pipeline\n",
    "from sklearn.feature_extraction.text import TfidfTransformer\n",
    "\n",
    "svc = Pipeline([('vect', CountVectorizer()),\n",
    "               ('tfidf', TfidfTransformer()),\n",
    "               ('svc', SVC()),\n",
    "              ])\n",
    "\n",
    "clf = OneVsRestClassifier(svc).fit(X_train, y_train)\n"
   ]
  },
  {
   "cell_type": "code",
   "execution_count": 17,
   "id": "f44059f0",
   "metadata": {},
   "outputs": [
    {
     "name": "stdout",
     "output_type": "stream",
     "text": [
      "accuracy 0.6476454293628808\n",
      "                         precision    recall  f1-score   support\n",
      "\n",
      "          Manufacturing       0.65      0.71      0.68       200\n",
      "   Privacy and Security       0.54      0.47      0.50        30\n",
      " Information Technology       1.00      0.16      0.28        25\n",
      "  Professional Services       0.00      0.00      0.00        15\n",
      "               Software       1.00      0.28      0.44        25\n",
      "              Education       0.67      0.55      0.60        11\n",
      "            Health Care       0.56      0.52      0.54       225\n",
      "     Travel and Tourism       0.67      0.06      0.12        62\n",
      "      Food and Beverage       0.00      0.00      0.00        14\n",
      "         Transportation       0.00      0.00      0.00        20\n",
      "   Clothing and Apparel       0.74      0.65      0.69        48\n",
      "            Real Estate       0.80      0.48      0.60        67\n",
      "Administrative Services       0.00      0.00      0.00         9\n",
      "    Sales and Marketing       0.68      0.92      0.78       310\n",
      "      Internet Services       0.75      0.87      0.80        98\n",
      "     Financial Services       0.82      0.65      0.72        48\n",
      "  Commerce and Shopping       0.69      0.91      0.79       628\n",
      "                 Energy       0.69      0.93      0.79       282\n",
      "                 Sports       0.62      0.70      0.65        23\n",
      "                  Other       0.00      0.00      0.00        10\n",
      "               Hardware       0.62      0.59      0.60       109\n",
      "     Data and Analytics       0.68      0.95      0.79       284\n",
      "                 Design       0.51      0.30      0.37       152\n",
      "         Consumer Goods       0.51      0.27      0.35        86\n",
      "Agriculture and Farming       0.67      0.72      0.70       123\n",
      "Government and Military       0.00      0.00      0.00        17\n",
      "                 Mobile       0.00      0.00      0.00         7\n",
      "Media and Entertainment       0.00      0.00      0.00         1\n",
      "Community and Lifestyle       0.00      0.00      0.00         1\n",
      "                 Gaming       0.45      0.12      0.19       118\n",
      "                   Apps       0.00      0.00      0.00        12\n",
      "         Sustainability       0.47      0.22      0.30       113\n",
      "Science and Engineering       0.40      0.24      0.30        66\n",
      "      Natural Resources       0.62      0.39      0.48        41\n",
      "            Advertising       0.00      0.00      0.00         3\n",
      " Content and Publishing       0.46      0.22      0.30        81\n",
      "          Biotechnology       0.00      0.00      0.00        23\n",
      " Navigation and Mapping       0.00      0.00      0.00         3\n",
      "   Consumer Electronics       0.55      0.69      0.61       167\n",
      "                 Events       0.51      0.62      0.56        53\n",
      "\n",
      "               accuracy                           0.65      3610\n",
      "              macro avg       0.43      0.35      0.36      3610\n",
      "           weighted avg       0.61      0.65      0.60      3610\n",
      "\n",
      "CPU times: user 2min 22s, sys: 372 ms, total: 2min 22s\n",
      "Wall time: 2min 22s\n"
     ]
    },
    {
     "name": "stderr",
     "output_type": "stream",
     "text": [
      "/Users/holdenbruce/opt/anaconda3/lib/python3.7/site-packages/sklearn/metrics/_classification.py:1245: UndefinedMetricWarning: Precision and F-score are ill-defined and being set to 0.0 in labels with no predicted samples. Use `zero_division` parameter to control this behavior.\n",
      "  _warn_prf(average, modifier, msg_start, len(result))\n",
      "/Users/holdenbruce/opt/anaconda3/lib/python3.7/site-packages/sklearn/metrics/_classification.py:1245: UndefinedMetricWarning: Precision and F-score are ill-defined and being set to 0.0 in labels with no predicted samples. Use `zero_division` parameter to control this behavior.\n",
      "  _warn_prf(average, modifier, msg_start, len(result))\n",
      "/Users/holdenbruce/opt/anaconda3/lib/python3.7/site-packages/sklearn/metrics/_classification.py:1245: UndefinedMetricWarning: Precision and F-score are ill-defined and being set to 0.0 in labels with no predicted samples. Use `zero_division` parameter to control this behavior.\n",
      "  _warn_prf(average, modifier, msg_start, len(result))\n"
     ]
    }
   ],
   "source": [
    "%%time\n",
    "from sklearn.metrics import classification_report\n",
    "y_pred = clf.predict(X_test)\n",
    "\n",
    "print('accuracy %s' % accuracy_score(y_pred, y_test))\n",
    "print(classification_report(y_test, y_pred,target_names=df['Industry Groups'].unique()))"
   ]
  },
  {
   "cell_type": "markdown",
   "id": "dc2d2ec0",
   "metadata": {},
   "source": [
    "# Support Vector Classifier (SVC)"
   ]
  },
  {
   "cell_type": "markdown",
   "id": "963a151e",
   "metadata": {},
   "source": [
    "### Fitting SVC on TF-IDF"
   ]
  },
  {
   "cell_type": "code",
   "execution_count": 19,
   "id": "f0fa1ac3",
   "metadata": {},
   "outputs": [
    {
     "data": {
      "text/plain": [
       "SVC()"
      ]
     },
     "execution_count": 19,
     "metadata": {},
     "output_type": "execute_result"
    }
   ],
   "source": [
    "svd = decomposition.TruncatedSVD(n_components=200)\n",
    "svd.fit(X_train_tfidf)\n",
    "X_train_svd = svd.transform(X_train_tfidf)\n",
    "X_test_svd = svd.transform(X_test_tfidf)\n",
    "\n",
    "scale = preprocessing.StandardScaler()\n",
    "scale.fit(X_train_svd)\n",
    "X_train_svd_scale = scale.transform(X_train_svd)\n",
    "X_test_svd_scale = scale.transform(X_test_svd)\n",
    "\n",
    "SVMclf = SVC()\n",
    "SVMclf.fit(X_train_svd_scale, y_train)\n"
   ]
  },
  {
   "cell_type": "code",
   "execution_count": 20,
   "id": "34b95669",
   "metadata": {},
   "outputs": [
    {
     "data": {
      "text/plain": [
       "((8421, 947820), (3610, 947820), (8421,), (3610,), (8421, 200))"
      ]
     },
     "execution_count": 20,
     "metadata": {},
     "output_type": "execute_result"
    }
   ],
   "source": [
    "X_train_tfidf.shape, X_test_tfidf.shape, y_train.shape, y_test.shape, X_train_svd_scale.shape"
   ]
  },
  {
   "cell_type": "code",
   "execution_count": 21,
   "id": "c6900725",
   "metadata": {},
   "outputs": [
    {
     "name": "stdout",
     "output_type": "stream",
     "text": [
      "---Test Set Results---\n",
      "Accuracy with SVM after SVD and standardize: 0.615235457063712\n"
     ]
    }
   ],
   "source": [
    "y_pred = SVMclf.predict(X_test_svd_scale)\n",
    "print(\"---Test Set Results---\")\n",
    "print(\"Accuracy with SVM after SVD and standardize: {}\".format(accuracy_score(y_test, y_pred)))\n",
    "# print(classification_report(y_test, y_pred, target_names=target_names))"
   ]
  },
  {
   "cell_type": "code",
   "execution_count": 22,
   "id": "1f90d347",
   "metadata": {},
   "outputs": [
    {
     "name": "stdout",
     "output_type": "stream",
     "text": [
      "                         precision    recall  f1-score   support\n",
      "\n",
      "Administrative Services       0.73      0.60      0.66       200\n",
      "            Advertising       0.41      0.37      0.39        30\n",
      "Agriculture and Farming       1.00      0.04      0.08        25\n",
      "                   Apps       0.00      0.00      0.00        15\n",
      "          Biotechnology       0.78      0.28      0.41        25\n",
      "   Clothing and Apparel       0.50      0.09      0.15        11\n",
      "  Commerce and Shopping       0.35      0.53      0.42       225\n",
      "Community and Lifestyle       0.35      0.13      0.19        62\n",
      "   Consumer Electronics       0.00      0.00      0.00        14\n",
      "         Consumer Goods       0.00      0.00      0.00        20\n",
      " Content and Publishing       0.68      0.52      0.59        48\n",
      "     Data and Analytics       0.85      0.42      0.56        67\n",
      "                 Design       0.00      0.00      0.00         9\n",
      "              Education       0.83      0.82      0.82       310\n",
      "                 Energy       0.83      0.71      0.77        98\n",
      "                 Events       0.90      0.58      0.71        48\n",
      "     Financial Services       0.86      0.81      0.83       628\n",
      "      Food and Beverage       0.73      0.83      0.78       282\n",
      "                 Gaming       0.77      0.43      0.56        23\n",
      "Government and Military       0.00      0.00      0.00        10\n",
      "               Hardware       0.64      0.57      0.60       109\n",
      "            Health Care       0.68      0.86      0.76       284\n",
      " Information Technology       0.39      0.40      0.39       152\n",
      "      Internet Services       0.42      0.31      0.36        86\n",
      "          Manufacturing       0.48      0.68      0.56       123\n",
      "Media and Entertainment       0.00      0.00      0.00        17\n",
      "                 Mobile       0.00      0.00      0.00         7\n",
      "      Natural Resources       0.00      0.00      0.00         1\n",
      " Navigation and Mapping       0.00      0.00      0.00         1\n",
      "                  Other       0.27      0.43      0.33       118\n",
      "   Privacy and Security       0.00      0.00      0.00        12\n",
      "  Professional Services       0.50      0.31      0.38       113\n",
      "            Real Estate       0.35      0.27      0.31        66\n",
      "    Sales and Marketing       0.52      0.41      0.46        41\n",
      "Science and Engineering       0.00      0.00      0.00         3\n",
      "               Software       0.31      0.48      0.38        81\n",
      "                 Sports       0.00      0.00      0.00        23\n",
      "         Sustainability       0.00      0.00      0.00         3\n",
      "         Transportation       0.51      0.74      0.61       167\n",
      "     Travel and Tourism       0.56      0.66      0.60        53\n",
      "\n",
      "               accuracy                           0.62      3610\n",
      "              macro avg       0.40      0.33      0.34      3610\n",
      "           weighted avg       0.62      0.62      0.60      3610\n",
      "\n"
     ]
    },
    {
     "name": "stderr",
     "output_type": "stream",
     "text": [
      "/Users/holdenbruce/opt/anaconda3/lib/python3.7/site-packages/sklearn/metrics/_classification.py:1245: UndefinedMetricWarning: Precision and F-score are ill-defined and being set to 0.0 in labels with no predicted samples. Use `zero_division` parameter to control this behavior.\n",
      "  _warn_prf(average, modifier, msg_start, len(result))\n",
      "/Users/holdenbruce/opt/anaconda3/lib/python3.7/site-packages/sklearn/metrics/_classification.py:1245: UndefinedMetricWarning: Precision and F-score are ill-defined and being set to 0.0 in labels with no predicted samples. Use `zero_division` parameter to control this behavior.\n",
      "  _warn_prf(average, modifier, msg_start, len(result))\n",
      "/Users/holdenbruce/opt/anaconda3/lib/python3.7/site-packages/sklearn/metrics/_classification.py:1245: UndefinedMetricWarning: Precision and F-score are ill-defined and being set to 0.0 in labels with no predicted samples. Use `zero_division` parameter to control this behavior.\n",
      "  _warn_prf(average, modifier, msg_start, len(result))\n"
     ]
    }
   ],
   "source": [
    "print(classification_report(y_test, y_pred, target_names=target_names))"
   ]
  },
  {
   "cell_type": "markdown",
   "id": "6fcecbe4",
   "metadata": {},
   "source": [
    "### Fitting SVC on BOW"
   ]
  },
  {
   "cell_type": "code",
   "execution_count": 23,
   "id": "a5ed2291",
   "metadata": {},
   "outputs": [
    {
     "name": "stdout",
     "output_type": "stream",
     "text": [
      "---Test Set Results---\n",
      "Accuracy with SVM after SVD and standardize: 0.550415512465374\n",
      "                         precision    recall  f1-score   support\n",
      "\n",
      "Administrative Services       0.63      0.60      0.62       200\n",
      "            Advertising       0.33      0.20      0.25        30\n",
      "Agriculture and Farming       0.00      0.00      0.00        25\n",
      "                   Apps       0.00      0.00      0.00        15\n",
      "          Biotechnology       1.00      0.04      0.08        25\n",
      "   Clothing and Apparel       0.00      0.00      0.00        11\n",
      "  Commerce and Shopping       0.34      0.41      0.37       225\n",
      "Community and Lifestyle       0.44      0.06      0.11        62\n",
      "   Consumer Electronics       0.00      0.00      0.00        14\n",
      "         Consumer Goods       0.00      0.00      0.00        20\n",
      " Content and Publishing       0.71      0.35      0.47        48\n",
      "     Data and Analytics       0.70      0.42      0.52        67\n",
      "                 Design       0.00      0.00      0.00         9\n",
      "              Education       0.77      0.83      0.80       310\n",
      "                 Energy       0.73      0.68      0.71        98\n",
      "                 Events       0.92      0.23      0.37        48\n",
      "     Financial Services       0.56      0.87      0.68       628\n",
      "      Food and Beverage       0.55      0.82      0.66       282\n",
      "                 Gaming       0.00      0.00      0.00        23\n",
      "Government and Military       0.00      0.00      0.00        10\n",
      "               Hardware       0.63      0.41      0.50       109\n",
      "            Health Care       0.71      0.79      0.75       284\n",
      " Information Technology       0.28      0.34      0.31       152\n",
      "      Internet Services       0.34      0.30      0.32        86\n",
      "          Manufacturing       0.55      0.53      0.54       123\n",
      "Media and Entertainment       0.00      0.00      0.00        17\n",
      "                 Mobile       0.00      0.00      0.00         7\n",
      "      Natural Resources       0.00      0.00      0.00         1\n",
      " Navigation and Mapping       0.00      0.00      0.00         1\n",
      "                  Other       0.44      0.24      0.31       118\n",
      "   Privacy and Security       0.00      0.00      0.00        12\n",
      "  Professional Services       0.44      0.16      0.23       113\n",
      "            Real Estate       0.33      0.09      0.14        66\n",
      "    Sales and Marketing       0.52      0.27      0.35        41\n",
      "Science and Engineering       0.00      0.00      0.00         3\n",
      "               Software       0.24      0.32      0.27        81\n",
      "                 Sports       0.00      0.00      0.00        23\n",
      "         Sustainability       0.00      0.00      0.00         3\n",
      "         Transportation       0.48      0.53      0.50       167\n",
      "     Travel and Tourism       0.60      0.23      0.33        53\n",
      "\n",
      "               accuracy                           0.55      3610\n",
      "              macro avg       0.33      0.24      0.26      3610\n",
      "           weighted avg       0.53      0.55      0.51      3610\n",
      "\n"
     ]
    },
    {
     "name": "stderr",
     "output_type": "stream",
     "text": [
      "/Users/holdenbruce/opt/anaconda3/lib/python3.7/site-packages/sklearn/metrics/_classification.py:1245: UndefinedMetricWarning: Precision and F-score are ill-defined and being set to 0.0 in labels with no predicted samples. Use `zero_division` parameter to control this behavior.\n",
      "  _warn_prf(average, modifier, msg_start, len(result))\n",
      "/Users/holdenbruce/opt/anaconda3/lib/python3.7/site-packages/sklearn/metrics/_classification.py:1245: UndefinedMetricWarning: Precision and F-score are ill-defined and being set to 0.0 in labels with no predicted samples. Use `zero_division` parameter to control this behavior.\n",
      "  _warn_prf(average, modifier, msg_start, len(result))\n",
      "/Users/holdenbruce/opt/anaconda3/lib/python3.7/site-packages/sklearn/metrics/_classification.py:1245: UndefinedMetricWarning: Precision and F-score are ill-defined and being set to 0.0 in labels with no predicted samples. Use `zero_division` parameter to control this behavior.\n",
      "  _warn_prf(average, modifier, msg_start, len(result))\n"
     ]
    }
   ],
   "source": [
    "svd = decomposition.TruncatedSVD(n_components=200)\n",
    "svd.fit(X_train_countvec)\n",
    "X_train_svd = svd.transform(X_train_countvec)\n",
    "X_test_svd = svd.transform(X_test_countvec)\n",
    "\n",
    "scale = preprocessing.StandardScaler()\n",
    "scale.fit(X_train_svd)\n",
    "X_train_svd_scale = scale.transform(X_train_svd)\n",
    "X_test_svd_scale = scale.transform(X_test_svd)\n",
    "\n",
    "SVMclf = SVC()\n",
    "SVMclf.fit(X_train_svd_scale, y_train)\n",
    "y_pred = SVMclf.predict(X_test_svd_scale)\n",
    "print(\"---Test Set Results---\")\n",
    "print(\"Accuracy with SVM after SVD and standardize: {}\".format(accuracy_score(y_test, y_pred)))\n",
    "print(classification_report(y_test, y_pred, target_names=target_names))\n"
   ]
  },
  {
   "cell_type": "markdown",
   "id": "ca1d7495",
   "metadata": {},
   "source": [
    "# Random Forest\n",
    "### Fitting Random Forest on TF-IDF"
   ]
  },
  {
   "cell_type": "code",
   "execution_count": 24,
   "id": "53e2d187",
   "metadata": {},
   "outputs": [
    {
     "name": "stdout",
     "output_type": "stream",
     "text": [
      "---Test Set Results---\n",
      "Accuracy with RF: 0.5551246537396122\n",
      "                         precision    recall  f1-score   support\n",
      "\n",
      "Administrative Services       0.68      0.56      0.62       200\n",
      "            Advertising       0.42      0.27      0.33        30\n",
      "Agriculture and Farming       0.00      0.00      0.00        25\n",
      "                   Apps       0.00      0.00      0.00        15\n",
      "          Biotechnology       1.00      0.12      0.21        25\n",
      "   Clothing and Apparel       0.50      0.27      0.35        11\n",
      "  Commerce and Shopping       0.60      0.44      0.51       225\n",
      "Community and Lifestyle       1.00      0.03      0.06        62\n",
      "   Consumer Electronics       0.00      0.00      0.00        14\n",
      "         Consumer Goods       0.00      0.00      0.00        20\n",
      " Content and Publishing       0.76      0.40      0.52        48\n",
      "     Data and Analytics       0.82      0.13      0.23        67\n",
      "                 Design       0.00      0.00      0.00         9\n",
      "              Education       0.65      0.89      0.75       310\n",
      "                 Energy       0.74      0.68      0.71        98\n",
      "                 Events       0.84      0.44      0.58        48\n",
      "     Financial Services       0.42      0.95      0.58       628\n",
      "      Food and Beverage       0.69      0.90      0.78       282\n",
      "                 Gaming       0.83      0.43      0.57        23\n",
      "Government and Military       0.00      0.00      0.00        10\n",
      "               Hardware       0.68      0.39      0.49       109\n",
      "            Health Care       0.69      0.87      0.77       284\n",
      " Information Technology       0.56      0.12      0.20       152\n",
      "      Internet Services       0.62      0.23      0.34        86\n",
      "          Manufacturing       0.63      0.48      0.55       123\n",
      "Media and Entertainment       0.00      0.00      0.00        17\n",
      "                 Mobile       0.00      0.00      0.00         7\n",
      "      Natural Resources       0.00      0.00      0.00         1\n",
      " Navigation and Mapping       0.00      0.00      0.00         1\n",
      "                  Other       0.40      0.03      0.06       118\n",
      "   Privacy and Security       0.00      0.00      0.00        12\n",
      "  Professional Services       0.45      0.08      0.14       113\n",
      "            Real Estate       0.50      0.03      0.06        66\n",
      "    Sales and Marketing       0.83      0.12      0.21        41\n",
      "Science and Engineering       0.00      0.00      0.00         3\n",
      "               Software       0.50      0.01      0.02        81\n",
      "                 Sports       0.00      0.00      0.00        23\n",
      "         Sustainability       0.00      0.00      0.00         3\n",
      "         Transportation       0.55      0.56      0.55       167\n",
      "     Travel and Tourism       0.56      0.43      0.49        53\n",
      "\n",
      "               accuracy                           0.56      3610\n",
      "              macro avg       0.42      0.25      0.27      3610\n",
      "           weighted avg       0.57      0.56      0.49      3610\n",
      "\n"
     ]
    },
    {
     "name": "stderr",
     "output_type": "stream",
     "text": [
      "/Users/holdenbruce/opt/anaconda3/lib/python3.7/site-packages/sklearn/metrics/_classification.py:1245: UndefinedMetricWarning: Precision and F-score are ill-defined and being set to 0.0 in labels with no predicted samples. Use `zero_division` parameter to control this behavior.\n",
      "  _warn_prf(average, modifier, msg_start, len(result))\n",
      "/Users/holdenbruce/opt/anaconda3/lib/python3.7/site-packages/sklearn/metrics/_classification.py:1245: UndefinedMetricWarning: Precision and F-score are ill-defined and being set to 0.0 in labels with no predicted samples. Use `zero_division` parameter to control this behavior.\n",
      "  _warn_prf(average, modifier, msg_start, len(result))\n",
      "/Users/holdenbruce/opt/anaconda3/lib/python3.7/site-packages/sklearn/metrics/_classification.py:1245: UndefinedMetricWarning: Precision and F-score are ill-defined and being set to 0.0 in labels with no predicted samples. Use `zero_division` parameter to control this behavior.\n",
      "  _warn_prf(average, modifier, msg_start, len(result))\n"
     ]
    }
   ],
   "source": [
    "RFclf = RandomForestClassifier()\n",
    "RFclf.fit(X_train_tfidf, y_train)\n",
    "y_pred = RFclf.predict(X_test_tfidf)\n",
    "\n",
    "print(\"---Test Set Results---\")\n",
    "print(\"Accuracy with RF: {}\".format(accuracy_score(y_test, y_pred)))\n",
    "print(classification_report(y_test, y_pred, target_names=target_names))"
   ]
  },
  {
   "cell_type": "markdown",
   "id": "06dd2a2e",
   "metadata": {},
   "source": [
    "### Fitting Random Forest on BOW"
   ]
  },
  {
   "cell_type": "code",
   "execution_count": 25,
   "id": "ee9b5b70",
   "metadata": {},
   "outputs": [
    {
     "name": "stdout",
     "output_type": "stream",
     "text": [
      "---Test Set Results---\n",
      "Accuracy with RF: 0.5562326869806095\n",
      "                         precision    recall  f1-score   support\n",
      "\n",
      "Administrative Services       0.70      0.60      0.65       200\n",
      "            Advertising       0.50      0.10      0.17        30\n",
      "Agriculture and Farming       0.00      0.00      0.00        25\n",
      "                   Apps       0.00      0.00      0.00        15\n",
      "          Biotechnology       1.00      0.08      0.15        25\n",
      "   Clothing and Apparel       0.67      0.36      0.47        11\n",
      "  Commerce and Shopping       0.58      0.48      0.52       225\n",
      "Community and Lifestyle       0.00      0.00      0.00        62\n",
      "   Consumer Electronics       0.00      0.00      0.00        14\n",
      "         Consumer Goods       0.00      0.00      0.00        20\n",
      " Content and Publishing       0.81      0.35      0.49        48\n",
      "     Data and Analytics       0.78      0.21      0.33        67\n",
      "                 Design       0.00      0.00      0.00         9\n",
      "              Education       0.66      0.88      0.75       310\n",
      "                 Energy       0.75      0.71      0.73        98\n",
      "                 Events       0.78      0.38      0.51        48\n",
      "     Financial Services       0.43      0.94      0.59       628\n",
      "      Food and Beverage       0.71      0.88      0.79       282\n",
      "                 Gaming       0.67      0.35      0.46        23\n",
      "Government and Military       0.00      0.00      0.00        10\n",
      "               Hardware       0.76      0.35      0.48       109\n",
      "            Health Care       0.69      0.88      0.77       284\n",
      " Information Technology       0.46      0.12      0.19       152\n",
      "      Internet Services       0.51      0.29      0.37        86\n",
      "          Manufacturing       0.64      0.59      0.61       123\n",
      "Media and Entertainment       0.00      0.00      0.00        17\n",
      "                 Mobile       0.00      0.00      0.00         7\n",
      "      Natural Resources       0.00      0.00      0.00         1\n",
      " Navigation and Mapping       0.00      0.00      0.00         1\n",
      "                  Other       0.62      0.04      0.08       118\n",
      "   Privacy and Security       0.00      0.00      0.00        12\n",
      "  Professional Services       0.50      0.12      0.19       113\n",
      "            Real Estate       0.67      0.06      0.11        66\n",
      "    Sales and Marketing       0.75      0.07      0.13        41\n",
      "Science and Engineering       0.00      0.00      0.00         3\n",
      "               Software       0.50      0.02      0.05        81\n",
      "                 Sports       0.00      0.00      0.00        23\n",
      "         Sustainability       0.00      0.00      0.00         3\n",
      "         Transportation       0.52      0.51      0.51       167\n",
      "     Travel and Tourism       0.44      0.32      0.37        53\n",
      "\n",
      "               accuracy                           0.56      3610\n",
      "              macro avg       0.40      0.24      0.26      3610\n",
      "           weighted avg       0.56      0.56      0.50      3610\n",
      "\n"
     ]
    },
    {
     "name": "stderr",
     "output_type": "stream",
     "text": [
      "/Users/holdenbruce/opt/anaconda3/lib/python3.7/site-packages/sklearn/metrics/_classification.py:1245: UndefinedMetricWarning: Precision and F-score are ill-defined and being set to 0.0 in labels with no predicted samples. Use `zero_division` parameter to control this behavior.\n",
      "  _warn_prf(average, modifier, msg_start, len(result))\n",
      "/Users/holdenbruce/opt/anaconda3/lib/python3.7/site-packages/sklearn/metrics/_classification.py:1245: UndefinedMetricWarning: Precision and F-score are ill-defined and being set to 0.0 in labels with no predicted samples. Use `zero_division` parameter to control this behavior.\n",
      "  _warn_prf(average, modifier, msg_start, len(result))\n",
      "/Users/holdenbruce/opt/anaconda3/lib/python3.7/site-packages/sklearn/metrics/_classification.py:1245: UndefinedMetricWarning: Precision and F-score are ill-defined and being set to 0.0 in labels with no predicted samples. Use `zero_division` parameter to control this behavior.\n",
      "  _warn_prf(average, modifier, msg_start, len(result))\n"
     ]
    }
   ],
   "source": [
    "RFclf = RandomForestClassifier()\n",
    "RFclf.fit(X_train_countvec, y_train)\n",
    "\n",
    "y_pred = RFclf.predict(X_test_countvec)\n",
    "print(\"---Test Set Results---\")\n",
    "print(\"Accuracy with RF: {}\".format(accuracy_score(y_test, y_pred)))\n",
    "print(classification_report(y_test, y_pred, target_names=target_names))"
   ]
  },
  {
   "cell_type": "code",
   "execution_count": 46,
   "id": "3fb5086d",
   "metadata": {},
   "outputs": [
    {
     "name": "stdout",
     "output_type": "stream",
     "text": [
      "training score: 0.9980250493428112\n",
      "validation score: 0.34633737605219295\n"
     ]
    }
   ],
   "source": [
    "print('training score:', f1_score(y_train, xgb.predict(X_train), average='macro'))\n",
    "print('validation score:', f1_score(y_test, xgb.predict(X_test), average='macro'))\n"
   ]
  },
  {
   "cell_type": "markdown",
   "id": "010d71e8",
   "metadata": {},
   "source": [
    "# XGBoost"
   ]
  },
  {
   "cell_type": "code",
   "execution_count": 27,
   "id": "260bb4f0",
   "metadata": {},
   "outputs": [],
   "source": [
    "import pandas as pd\n",
    "import numpy as np\n",
    "import matplotlib.pylab as plt\n",
    "import seaborn as sns\n",
    "\n",
    "import scipy\n",
    "from sklearn.metrics import log_loss\n",
    "import xgboost as xgb\n",
    "from sklearn.metrics import accuracy_score\n",
    "from sklearn.metrics import roc_auc_score\n",
    "\n",
    "from sklearn.metrics import classification_report, confusion_matrix\n",
    "from sklearn.model_selection import train_test_split\n",
    "from sklearn.datasets import load_wine\n",
    "from IPython.core.interactiveshell import InteractiveShell\n",
    "InteractiveShell.ast_node_interactivity = \"all\""
   ]
  },
  {
   "cell_type": "code",
   "execution_count": 42,
   "id": "bfba6558",
   "metadata": {},
   "outputs": [],
   "source": [
    "import xgboost as xgb\n",
    "Xtr, Xte, ytr, yte = train_test_split(df['Full Description'].values, y,\n",
    "                                                   stratify=y, \n",
    "                                                   random_state=42, test_size=0.3)\n",
    "\n",
    "xgb = Pipeline([('vect', CountVectorizer()),\n",
    "               ('tfidf', TfidfTransformer()),\n",
    "               ('clf', xgb.XGBClassifier(objective='binary:logistic', seed=42)),\n",
    "              ]).fit(Xtr, ytr)"
   ]
  },
  {
   "cell_type": "code",
   "execution_count": 45,
   "id": "824208fd",
   "metadata": {},
   "outputs": [
    {
     "name": "stdout",
     "output_type": "stream",
     "text": [
      "training score: 0.9980250493428112\n",
      "validation score: 0.34633737605219295\n",
      "              precision    recall  f1-score   support\n",
      "\n",
      "           0       0.64      0.66      0.65       200\n",
      "           1       0.62      0.53      0.57        30\n",
      "           2       0.75      0.12      0.21        25\n",
      "           3       0.40      0.13      0.20        15\n",
      "           4       0.83      0.40      0.54        25\n",
      "           5       0.67      0.55      0.60        11\n",
      "           6       0.39      0.48      0.43       225\n",
      "           7       0.31      0.18      0.22        62\n",
      "           8       0.00      0.00      0.00        14\n",
      "           9       0.00      0.00      0.00        20\n",
      "          10       0.64      0.56      0.60        48\n",
      "          11       0.70      0.42      0.52        67\n",
      "          12       0.00      0.00      0.00         9\n",
      "          13       0.75      0.84      0.79       310\n",
      "          14       0.77      0.77      0.77        98\n",
      "          15       0.62      0.52      0.57        48\n",
      "          16       0.72      0.85      0.78       628\n",
      "          17       0.67      0.78      0.72       282\n",
      "          18       0.57      0.52      0.55        23\n",
      "          19       0.00      0.00      0.00        10\n",
      "          20       0.53      0.50      0.52       109\n",
      "          21       0.71      0.80      0.75       284\n",
      "          22       0.33      0.37      0.35       152\n",
      "          23       0.40      0.27      0.32        86\n",
      "          24       0.58      0.55      0.56       123\n",
      "          25       0.50      0.06      0.11        17\n",
      "          26       0.00      0.00      0.00         7\n",
      "          27       0.00      0.00      0.00         1\n",
      "          28       0.00      0.00      0.00         1\n",
      "          29       0.23      0.21      0.22       118\n",
      "          30       0.00      0.00      0.00        12\n",
      "          31       0.42      0.32      0.36       113\n",
      "          32       0.33      0.21      0.26        66\n",
      "          33       0.52      0.29      0.38        41\n",
      "          34       0.00      0.00      0.00         3\n",
      "          35       0.24      0.21      0.23        81\n",
      "          36       0.00      0.00      0.00        23\n",
      "          37       0.00      0.00      0.00         3\n",
      "          38       0.52      0.56      0.54       167\n",
      "          39       0.46      0.68      0.55        53\n",
      "\n",
      "    accuracy                           0.59      3610\n",
      "   macro avg       0.40      0.33      0.35      3610\n",
      "weighted avg       0.57      0.59      0.57      3610\n",
      "\n"
     ]
    },
    {
     "name": "stderr",
     "output_type": "stream",
     "text": [
      "/Users/holdenbruce/opt/anaconda3/lib/python3.7/site-packages/sklearn/metrics/_classification.py:1245: UndefinedMetricWarning: Precision and F-score are ill-defined and being set to 0.0 in labels with no predicted samples. Use `zero_division` parameter to control this behavior.\n",
      "  _warn_prf(average, modifier, msg_start, len(result))\n",
      "/Users/holdenbruce/opt/anaconda3/lib/python3.7/site-packages/sklearn/metrics/_classification.py:1245: UndefinedMetricWarning: Precision and F-score are ill-defined and being set to 0.0 in labels with no predicted samples. Use `zero_division` parameter to control this behavior.\n",
      "  _warn_prf(average, modifier, msg_start, len(result))\n",
      "/Users/holdenbruce/opt/anaconda3/lib/python3.7/site-packages/sklearn/metrics/_classification.py:1245: UndefinedMetricWarning: Precision and F-score are ill-defined and being set to 0.0 in labels with no predicted samples. Use `zero_division` parameter to control this behavior.\n",
      "  _warn_prf(average, modifier, msg_start, len(result))\n"
     ]
    }
   ],
   "source": [
    "xgb_prediction = xgb.predict(X_test)\n",
    "\n",
    "from sklearn.metrics import f1_score, classification_report, accuracy_score\n",
    "\n",
    "print('training score:', f1_score(ytr, xgb.predict(Xtr), average='macro'))\n",
    "print('validation score:', f1_score(yte, xgb.predict(Xte), average='macro'))\n",
    "print(classification_report(yte, xgb_prediction))"
   ]
  },
  {
   "cell_type": "code",
   "execution_count": null,
   "id": "e6f5f04b",
   "metadata": {},
   "outputs": [],
   "source": []
  },
  {
   "cell_type": "code",
   "execution_count": null,
   "id": "f8a7999e",
   "metadata": {},
   "outputs": [],
   "source": []
  },
  {
   "cell_type": "code",
   "execution_count": null,
   "id": "8aa29140",
   "metadata": {},
   "outputs": [],
   "source": []
  }
 ],
 "metadata": {
  "kernelspec": {
   "display_name": "Python 3",
   "language": "python",
   "name": "python3"
  },
  "language_info": {
   "codemirror_mode": {
    "name": "ipython",
    "version": 3
   },
   "file_extension": ".py",
   "mimetype": "text/x-python",
   "name": "python",
   "nbconvert_exporter": "python",
   "pygments_lexer": "ipython3",
   "version": "3.7.7"
  }
 },
 "nbformat": 4,
 "nbformat_minor": 5
}
