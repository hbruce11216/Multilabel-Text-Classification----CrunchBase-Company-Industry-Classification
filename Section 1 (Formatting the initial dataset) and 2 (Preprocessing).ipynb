{
 "cells": [
  {
   "cell_type": "code",
   "execution_count": 1,
   "id": "cef0703b",
   "metadata": {},
   "outputs": [
    {
     "data": {
      "text/html": [
       "<style>.container { width:100% !important; }</style>"
      ],
      "text/plain": [
       "<IPython.core.display.HTML object>"
      ]
     },
     "metadata": {},
     "output_type": "display_data"
    }
   ],
   "source": [
    "# Change width of Jupyter notebook\n",
    "from IPython.core.display import display, HTML\n",
    "display(HTML(\"<style>.container { width:100% !important; }</style>\"))"
   ]
  },
  {
   "cell_type": "markdown",
   "id": "42ed8325",
   "metadata": {},
   "source": [
    "# Section 1: Formatting the initial dataset\n",
    "I downloaded CSVs from 77 different Industry designations from CrunchBase. In this first section, I use glob to read in every file from the data folder and then concatenate them into a single, large dataframe."
   ]
  },
  {
   "cell_type": "code",
   "execution_count": 2,
   "id": "e869db61",
   "metadata": {},
   "outputs": [
    {
     "data": {
      "text/plain": [
       "pandas.core.frame.DataFrame"
      ]
     },
     "execution_count": 2,
     "metadata": {},
     "output_type": "execute_result"
    }
   ],
   "source": [
    "import logging\n",
    "import pandas as pd\n",
    "import numpy as np\n",
    "from numpy import random\n",
    "import nltk\n",
    "from sklearn.model_selection import train_test_split\n",
    "from sklearn.feature_extraction.text import CountVectorizer, TfidfVectorizer\n",
    "from sklearn.metrics import accuracy_score, confusion_matrix\n",
    "import matplotlib.pyplot as plt\n",
    "from nltk.corpus import stopwords\n",
    "import re\n",
    "# %matplotlib inline\n",
    "import glob \n",
    "\n",
    "\n",
    "path = r'old/Data' # use your path\n",
    "all_files = glob.glob(path + \"/*.csv\")\n",
    "# using a more balanced collection of companies...i downloaded companies based on category type\n",
    "# in an attempt to level the imbalanced dataset \n",
    "\n",
    "li = []\n",
    "\n",
    "for filename in all_files:\n",
    "    df = pd.read_csv(filename, index_col=None, header=0)\n",
    "    li.append(df)\n",
    "\n",
    "df = pd.concat(li, axis=0, ignore_index=True)\n",
    "type(df)\n",
    "# df.to_csv('feb1_frame.csv')"
   ]
  },
  {
   "cell_type": "markdown",
   "id": "603a290b",
   "metadata": {},
   "source": [
    "There are 61,671 rows in this dataframe and 12 different columns."
   ]
  },
  {
   "cell_type": "code",
   "execution_count": 3,
   "id": "584ceb2a",
   "metadata": {},
   "outputs": [
    {
     "data": {
      "text/plain": [
       "(61671, 12)"
      ]
     },
     "execution_count": 3,
     "metadata": {},
     "output_type": "execute_result"
    }
   ],
   "source": [
    "df.shape"
   ]
  },
  {
   "cell_type": "markdown",
   "id": "ef2d7a0f",
   "metadata": {},
   "source": [
    "### Get rid of all the duplicates in the master_dataframe by using the Company's URL as the subset"
   ]
  },
  {
   "cell_type": "code",
   "execution_count": 4,
   "id": "5d32fe48",
   "metadata": {},
   "outputs": [
    {
     "data": {
      "text/plain": [
       "(47204, 12)"
      ]
     },
     "execution_count": 4,
     "metadata": {},
     "output_type": "execute_result"
    }
   ],
   "source": [
    "# Get rid of all the duplicates in the master_dataframe by using the CB URL as the subset\n",
    "df = df.drop_duplicates(subset='Organization Name URL').reset_index(drop=True)\n",
    "df.shape\n",
    "# (47204, 13) now there are 47,204 companies, which means that almost 10k companies were duplicated and thus dropped. "
   ]
  },
  {
   "cell_type": "markdown",
   "id": "1e2e029d",
   "metadata": {},
   "source": [
    "There are 47,204 unique companies in this dataframe and 12 different columns."
   ]
  },
  {
   "cell_type": "code",
   "execution_count": 5,
   "id": "910055ec",
   "metadata": {},
   "outputs": [
    {
     "data": {
      "text/plain": [
       "Index(['Organization Name', 'Organization Name URL', 'Website', 'Industries',\n",
       "       'Industry Groups', 'Description', 'Full Description', 'LinkedIn',\n",
       "       'Hub Tags', 'Twitter', 'Facebook', 'CB Rank (Organization)'],\n",
       "      dtype='object')"
      ]
     },
     "execution_count": 5,
     "metadata": {},
     "output_type": "execute_result"
    }
   ],
   "source": [
    "df.columns"
   ]
  },
  {
   "cell_type": "markdown",
   "id": "d97b6291",
   "metadata": {},
   "source": [
    "The four columns we are going to care most about are \"Organization Name\", \"Industries\", \"Industry Groups\", and \"Full Description\". I am using \"Full Description\" instead of the shorter \"Description\" so that I have more text to work with in our NLP model."
   ]
  },
  {
   "cell_type": "code",
   "execution_count": 6,
   "id": "5e2f6d07",
   "metadata": {},
   "outputs": [
    {
     "data": {
      "text/html": [
       "<div>\n",
       "<style scoped>\n",
       "    .dataframe tbody tr th:only-of-type {\n",
       "        vertical-align: middle;\n",
       "    }\n",
       "\n",
       "    .dataframe tbody tr th {\n",
       "        vertical-align: top;\n",
       "    }\n",
       "\n",
       "    .dataframe thead th {\n",
       "        text-align: right;\n",
       "    }\n",
       "</style>\n",
       "<table border=\"1\" class=\"dataframe\">\n",
       "  <thead>\n",
       "    <tr style=\"text-align: right;\">\n",
       "      <th></th>\n",
       "      <th>Organization Name</th>\n",
       "      <th>Industries</th>\n",
       "      <th>Industry Groups</th>\n",
       "      <th>Full Description</th>\n",
       "    </tr>\n",
       "  </thead>\n",
       "  <tbody>\n",
       "    <tr>\n",
       "      <th>0</th>\n",
       "      <td>SimilarWeb</td>\n",
       "      <td>Analytics, Artificial Intelligence, Business I...</td>\n",
       "      <td>Artificial Intelligence, Data and Analytics, D...</td>\n",
       "      <td>SimilarWeb offers an AI-based market intellige...</td>\n",
       "    </tr>\n",
       "    <tr>\n",
       "      <th>1</th>\n",
       "      <td>SurveyMonkey</td>\n",
       "      <td>Analytics, Human Resources, Internet, Market R...</td>\n",
       "      <td>Administrative Services, Data and Analytics, D...</td>\n",
       "      <td>is a survey company which powers curious organ...</td>\n",
       "    </tr>\n",
       "    <tr>\n",
       "      <th>2</th>\n",
       "      <td>UserTesting</td>\n",
       "      <td>Consumer Research, Market Research, Marketing ...</td>\n",
       "      <td>Data and Analytics, Design, Information Techno...</td>\n",
       "      <td>UserTesting is an on-demand human insights pla...</td>\n",
       "    </tr>\n",
       "    <tr>\n",
       "      <th>3</th>\n",
       "      <td>Sensor Tower</td>\n",
       "      <td>Analytics, Android, Big Data, iOS, Market Rese...</td>\n",
       "      <td>Apps, Data and Analytics, Design, Mobile, Plat...</td>\n",
       "      <td>Sensor Tower offers solution for mobile market...</td>\n",
       "    </tr>\n",
       "    <tr>\n",
       "      <th>4</th>\n",
       "      <td>Numerator</td>\n",
       "      <td>Analytics, Brand Marketing, Market Research</td>\n",
       "      <td>Data and Analytics, Design, Sales and Marketing</td>\n",
       "      <td>Numerator is a market intelligence firm that b...</td>\n",
       "    </tr>\n",
       "  </tbody>\n",
       "</table>\n",
       "</div>"
      ],
      "text/plain": [
       "  Organization Name                                         Industries  \\\n",
       "0        SimilarWeb  Analytics, Artificial Intelligence, Business I...   \n",
       "1      SurveyMonkey  Analytics, Human Resources, Internet, Market R...   \n",
       "2       UserTesting  Consumer Research, Market Research, Marketing ...   \n",
       "3      Sensor Tower  Analytics, Android, Big Data, iOS, Market Rese...   \n",
       "4         Numerator        Analytics, Brand Marketing, Market Research   \n",
       "\n",
       "                                     Industry Groups  \\\n",
       "0  Artificial Intelligence, Data and Analytics, D...   \n",
       "1  Administrative Services, Data and Analytics, D...   \n",
       "2  Data and Analytics, Design, Information Techno...   \n",
       "3  Apps, Data and Analytics, Design, Mobile, Plat...   \n",
       "4    Data and Analytics, Design, Sales and Marketing   \n",
       "\n",
       "                                    Full Description  \n",
       "0  SimilarWeb offers an AI-based market intellige...  \n",
       "1  is a survey company which powers curious organ...  \n",
       "2  UserTesting is an on-demand human insights pla...  \n",
       "3  Sensor Tower offers solution for mobile market...  \n",
       "4  Numerator is a market intelligence firm that b...  "
      ]
     },
     "execution_count": 6,
     "metadata": {},
     "output_type": "execute_result"
    }
   ],
   "source": [
    "df = df[['Organization Name', 'Industries', 'Industry Groups', 'Full Description']]\n",
    "\n",
    "df.head()"
   ]
  },
  {
   "cell_type": "markdown",
   "id": "8b5601e5",
   "metadata": {},
   "source": [
    "#### Now I'm going to save this dataframe down to 1_df.csv and then read it back in"
   ]
  },
  {
   "cell_type": "code",
   "execution_count": 7,
   "id": "ef84759d",
   "metadata": {},
   "outputs": [],
   "source": [
    "df.to_csv(\"1_df.csv\")"
   ]
  },
  {
   "cell_type": "markdown",
   "id": "ad485a70",
   "metadata": {},
   "source": [
    "# Section 2: Preprocessing \n",
    "Next order of business: I need to create a dataframe of companies I am 100% certain are of a certain industry; this will be my test dataset. This is somewhat tricky and I'm going to make a few assumptions here, which isn't perfect, but it's good enough to get started.\n",
    "\n",
    "The CrunchBase system assigns companies Industries and Industry Groups, some have one or two tags, some have more than 12. My approach for building out a train set is going to be to use companies that got only a single industry designation from CrunchBase. "
   ]
  },
  {
   "cell_type": "code",
   "execution_count": 8,
   "id": "3307e4c6",
   "metadata": {},
   "outputs": [],
   "source": [
    "# Then I will parse the Industries and Industry Groups columns so that it is a list of terms\n",
    "# This function also creates our test set of companies that have only a single Industry designation\n",
    "\n",
    "# for loop to extract companies that have less than 2 industries assigned\n",
    "# to their CB Industries column:\n",
    "def split_industries(dataframe, column):\n",
    "\n",
    "    counter = 0\n",
    "    industry_split = []\n",
    "    #loop through each company in the CB Industries column\n",
    "    for industry in dataframe[column]:\n",
    "        #turn company to string\n",
    "        industry = str(industry)\n",
    "        #if there are only one listed industry for the company\n",
    "        \n",
    "        #use regex to split on both ',' and ';'\n",
    "        import re\n",
    "        split_inds = re.split('; |,', industry)\n",
    "        \n",
    "        if split_inds[0]!='nan':\n",
    "            industry_split.append(split_inds)\n",
    "            \n",
    "        #just using a counter because i'm curious, can be removed\n",
    "        if len(split_inds) > 2:\n",
    "            counter+=1\n",
    "    \n",
    "    return industry_split, counter"
   ]
  },
  {
   "cell_type": "markdown",
   "id": "97999977",
   "metadata": {},
   "source": [
    "#### First I'll parse the Industries column, then I'll parse the Industry Groups column"
   ]
  },
  {
   "cell_type": "code",
   "execution_count": 9,
   "id": "47f694b1",
   "metadata": {},
   "outputs": [],
   "source": [
    "# Industries column\n",
    "df_industries_split, num_counter = split_industries(df, 'Industries')\n",
    "\n",
    "# Now assign the df_industry_split to the df['Industries']\n",
    "df['Industries'] = df_industries_split\n",
    "\n",
    "########################\n",
    "\n",
    "# Industry Groups column\n",
    "df_industry_groups_split, num_counter = split_industries(df, 'Industry Groups')\n",
    "\n",
    "# Now assign the df_industry_split to the df['Industries']\n",
    "df['Industry Groups'] = df_industry_groups_split"
   ]
  },
  {
   "cell_type": "markdown",
   "id": "8741a17e",
   "metadata": {},
   "source": [
    "#### Companies with 1 Industry Group from CrunchBase"
   ]
  },
  {
   "cell_type": "code",
   "execution_count": 10,
   "id": "7161edd3",
   "metadata": {},
   "outputs": [
    {
     "data": {
      "text/html": [
       "<div>\n",
       "<style scoped>\n",
       "    .dataframe tbody tr th:only-of-type {\n",
       "        vertical-align: middle;\n",
       "    }\n",
       "\n",
       "    .dataframe tbody tr th {\n",
       "        vertical-align: top;\n",
       "    }\n",
       "\n",
       "    .dataframe thead th {\n",
       "        text-align: right;\n",
       "    }\n",
       "</style>\n",
       "<table border=\"1\" class=\"dataframe\">\n",
       "  <thead>\n",
       "    <tr style=\"text-align: right;\">\n",
       "      <th></th>\n",
       "      <th>Organization Name</th>\n",
       "      <th>Industries</th>\n",
       "      <th>Industry Groups</th>\n",
       "      <th>Full Description</th>\n",
       "    </tr>\n",
       "  </thead>\n",
       "  <tbody>\n",
       "    <tr>\n",
       "      <th>41482</th>\n",
       "      <td>Upperline Health</td>\n",
       "      <td>[Health Care,  Hospital,  Personal Health]</td>\n",
       "      <td>[Health Care]</td>\n",
       "      <td>Upperline Health has a variety of services to ...</td>\n",
       "    </tr>\n",
       "    <tr>\n",
       "      <th>4051</th>\n",
       "      <td>JustLegal</td>\n",
       "      <td>[Legal,  Legal Tech]</td>\n",
       "      <td>[Professional Services]</td>\n",
       "      <td>JustLegal offers a simple and secure technolog...</td>\n",
       "    </tr>\n",
       "    <tr>\n",
       "      <th>45561</th>\n",
       "      <td>Cathcart Rail</td>\n",
       "      <td>[Railroad,  Transportation]</td>\n",
       "      <td>[Transportation]</td>\n",
       "      <td>Cathcart Rail is a diversified freight rail pl...</td>\n",
       "    </tr>\n",
       "    <tr>\n",
       "      <th>44306</th>\n",
       "      <td>Greenline Trade</td>\n",
       "      <td>[Logistics,  Public Transportation,  Shipping,...</td>\n",
       "      <td>[Transportation]</td>\n",
       "      <td>GreenLine Trade is an international freight fo...</td>\n",
       "    </tr>\n",
       "    <tr>\n",
       "      <th>23411</th>\n",
       "      <td>Save-A-Lot</td>\n",
       "      <td>[Food Processing]</td>\n",
       "      <td>[Food and Beverage]</td>\n",
       "      <td>Save-A-Lot stores bring discount groceries to ...</td>\n",
       "    </tr>\n",
       "  </tbody>\n",
       "</table>\n",
       "</div>"
      ],
      "text/plain": [
       "      Organization Name                                         Industries  \\\n",
       "41482  Upperline Health         [Health Care,  Hospital,  Personal Health]   \n",
       "4051          JustLegal                               [Legal,  Legal Tech]   \n",
       "45561     Cathcart Rail                        [Railroad,  Transportation]   \n",
       "44306   Greenline Trade  [Logistics,  Public Transportation,  Shipping,...   \n",
       "23411        Save-A-Lot                                  [Food Processing]   \n",
       "\n",
       "               Industry Groups  \\\n",
       "41482            [Health Care]   \n",
       "4051   [Professional Services]   \n",
       "45561         [Transportation]   \n",
       "44306         [Transportation]   \n",
       "23411      [Food and Beverage]   \n",
       "\n",
       "                                        Full Description  \n",
       "41482  Upperline Health has a variety of services to ...  \n",
       "4051   JustLegal offers a simple and secure technolog...  \n",
       "45561  Cathcart Rail is a diversified freight rail pl...  \n",
       "44306  GreenLine Trade is an international freight fo...  \n",
       "23411  Save-A-Lot stores bring discount groceries to ...  "
      ]
     },
     "execution_count": 10,
     "metadata": {},
     "output_type": "execute_result"
    }
   ],
   "source": [
    "#https://stackoverflow.com/questions/45089650/filter-dataframe-rows-based-on-length-of-column-values\n",
    "\n",
    "df_reduced = df[(df['Industry Groups'].str.len() == 1)]\n",
    "df_reduced.sample(5)"
   ]
  },
  {
   "cell_type": "code",
   "execution_count": 11,
   "id": "fba78f3e",
   "metadata": {},
   "outputs": [
    {
     "data": {
      "text/plain": [
       "3197"
      ]
     },
     "execution_count": 11,
     "metadata": {},
     "output_type": "execute_result"
    }
   ],
   "source": [
    "# how many companies with only a single \n",
    "len(df_reduced)"
   ]
  },
  {
   "cell_type": "markdown",
   "id": "6a998a57",
   "metadata": {},
   "source": [
    "#### Companies with 2 Industry Groups from CrunchBase"
   ]
  },
  {
   "cell_type": "code",
   "execution_count": 12,
   "id": "bc5e2f74",
   "metadata": {},
   "outputs": [],
   "source": [
    "df_two = df[(df['Industry Groups'].str.len() == 2)]"
   ]
  },
  {
   "cell_type": "code",
   "execution_count": 13,
   "id": "cdb3fb06",
   "metadata": {},
   "outputs": [
    {
     "data": {
      "text/plain": [
       "8834"
      ]
     },
     "execution_count": 13,
     "metadata": {},
     "output_type": "execute_result"
    }
   ],
   "source": [
    "# how many companies with two industry designations from crunchbase \n",
    "len(df_two)"
   ]
  },
  {
   "cell_type": "markdown",
   "id": "4c48224c",
   "metadata": {},
   "source": [
    "I'm also going to take the first industry designation for companies that were given two industries from CrunchBase. Again, this isn't perfect, but I manually read through about a hundred of these companies and the first of the pair made plenty of sense for a classification."
   ]
  },
  {
   "cell_type": "code",
   "execution_count": 14,
   "id": "5f9c410f",
   "metadata": {},
   "outputs": [
    {
     "name": "stderr",
     "output_type": "stream",
     "text": [
      "/Users/holdenbruce/opt/anaconda3/lib/python3.7/site-packages/pandas/core/indexing.py:1843: SettingWithCopyWarning: \n",
      "A value is trying to be set on a copy of a slice from a DataFrame.\n",
      "Try using .loc[row_indexer,col_indexer] = value instead\n",
      "\n",
      "See the caveats in the documentation: https://pandas.pydata.org/pandas-docs/stable/user_guide/indexing.html#returning-a-view-versus-a-copy\n",
      "  self.obj[item_labels[indexer[info_axis]]] = value\n"
     ]
    }
   ],
   "source": [
    "df_two.loc[:,\"Industry Groups\"] = [[ind[0]] for ind in df_two[\"Industry Groups\"]]"
   ]
  },
  {
   "cell_type": "markdown",
   "id": "6594091c",
   "metadata": {},
   "source": [
    "#### Now merge the two, appending df_two to df_reduced"
   ]
  },
  {
   "cell_type": "code",
   "execution_count": 15,
   "id": "cf79f1b2",
   "metadata": {},
   "outputs": [
    {
     "data": {
      "text/html": [
       "<div>\n",
       "<style scoped>\n",
       "    .dataframe tbody tr th:only-of-type {\n",
       "        vertical-align: middle;\n",
       "    }\n",
       "\n",
       "    .dataframe tbody tr th {\n",
       "        vertical-align: top;\n",
       "    }\n",
       "\n",
       "    .dataframe thead th {\n",
       "        text-align: right;\n",
       "    }\n",
       "</style>\n",
       "<table border=\"1\" class=\"dataframe\">\n",
       "  <thead>\n",
       "    <tr style=\"text-align: right;\">\n",
       "      <th></th>\n",
       "      <th>Organization Name</th>\n",
       "      <th>Industries</th>\n",
       "      <th>Industry Groups</th>\n",
       "      <th>Full Description</th>\n",
       "    </tr>\n",
       "  </thead>\n",
       "  <tbody>\n",
       "    <tr>\n",
       "      <th>20787</th>\n",
       "      <td>Kynectiv</td>\n",
       "      <td>[E-Learning,  Training]</td>\n",
       "      <td>[Education]</td>\n",
       "      <td>DecisionSim is a simulation-based learning pla...</td>\n",
       "    </tr>\n",
       "    <tr>\n",
       "      <th>32243</th>\n",
       "      <td>ObjectWin Technology</td>\n",
       "      <td>[Recruiting,  Staffing Agency]</td>\n",
       "      <td>[Administrative Services]</td>\n",
       "      <td>ObjectWin Technology, Inc. is a leading inform...</td>\n",
       "    </tr>\n",
       "    <tr>\n",
       "      <th>29669</th>\n",
       "      <td>Mable</td>\n",
       "      <td>[E-Commerce,  Wholesale]</td>\n",
       "      <td>[Commerce and Shopping]</td>\n",
       "      <td>Mable is a mobile and web-based B2B wholesale ...</td>\n",
       "    </tr>\n",
       "    <tr>\n",
       "      <th>32302</th>\n",
       "      <td>Medical Employment Directory</td>\n",
       "      <td>[Health Care,  Staffing Agency]</td>\n",
       "      <td>[Administrative Services]</td>\n",
       "      <td>Address: 2343 Weldon Pkwy, St Louis, MO 63146,...</td>\n",
       "    </tr>\n",
       "    <tr>\n",
       "      <th>21759</th>\n",
       "      <td>Lascaux Co.</td>\n",
       "      <td>[Internet,  Mobile,  Social Network]</td>\n",
       "      <td>[Internet Services]</td>\n",
       "      <td>Lascaux Co. is focused on making art fun again...</td>\n",
       "    </tr>\n",
       "    <tr>\n",
       "      <th>30426</th>\n",
       "      <td>Brixey &amp; Meyer</td>\n",
       "      <td>[Accounting,  Consulting,  Financial Services]</td>\n",
       "      <td>[Financial Services]</td>\n",
       "      <td>Brixey &amp; Meyer is a registered accounting firm...</td>\n",
       "    </tr>\n",
       "    <tr>\n",
       "      <th>36697</th>\n",
       "      <td>ERI Economic Research Institute</td>\n",
       "      <td>[Analytics,  Human Resources]</td>\n",
       "      <td>[Administrative Services]</td>\n",
       "      <td>The ERI Economic Research Institute, Inc., is ...</td>\n",
       "    </tr>\n",
       "    <tr>\n",
       "      <th>32456</th>\n",
       "      <td>Science Exchange</td>\n",
       "      <td>[Consulting,  Outsourcing]</td>\n",
       "      <td>[Professional Services]</td>\n",
       "      <td>Science Exchange is the world’s leading R&amp;D Se...</td>\n",
       "    </tr>\n",
       "    <tr>\n",
       "      <th>12432</th>\n",
       "      <td>Morris Bank</td>\n",
       "      <td>[Banking,  Finance,  Financial Services]</td>\n",
       "      <td>[Financial Services]</td>\n",
       "      <td>Morris Bank operates as a state-chartered comm...</td>\n",
       "    </tr>\n",
       "    <tr>\n",
       "      <th>15202</th>\n",
       "      <td>AA Auto Protection</td>\n",
       "      <td>[Automotive,  Financial Services,  Insurance, ...</td>\n",
       "      <td>[Financial Services]</td>\n",
       "      <td>AA Auto Protection is insurance backed and one...</td>\n",
       "    </tr>\n",
       "  </tbody>\n",
       "</table>\n",
       "</div>"
      ],
      "text/plain": [
       "                     Organization Name  \\\n",
       "20787                         Kynectiv   \n",
       "32243             ObjectWin Technology   \n",
       "29669                            Mable   \n",
       "32302     Medical Employment Directory   \n",
       "21759                      Lascaux Co.   \n",
       "30426                   Brixey & Meyer   \n",
       "36697  ERI Economic Research Institute   \n",
       "32456                 Science Exchange   \n",
       "12432                      Morris Bank   \n",
       "15202               AA Auto Protection   \n",
       "\n",
       "                                              Industries  \\\n",
       "20787                            [E-Learning,  Training]   \n",
       "32243                     [Recruiting,  Staffing Agency]   \n",
       "29669                           [E-Commerce,  Wholesale]   \n",
       "32302                    [Health Care,  Staffing Agency]   \n",
       "21759               [Internet,  Mobile,  Social Network]   \n",
       "30426     [Accounting,  Consulting,  Financial Services]   \n",
       "36697                      [Analytics,  Human Resources]   \n",
       "32456                         [Consulting,  Outsourcing]   \n",
       "12432           [Banking,  Finance,  Financial Services]   \n",
       "15202  [Automotive,  Financial Services,  Insurance, ...   \n",
       "\n",
       "                 Industry Groups  \\\n",
       "20787                [Education]   \n",
       "32243  [Administrative Services]   \n",
       "29669    [Commerce and Shopping]   \n",
       "32302  [Administrative Services]   \n",
       "21759        [Internet Services]   \n",
       "30426       [Financial Services]   \n",
       "36697  [Administrative Services]   \n",
       "32456    [Professional Services]   \n",
       "12432       [Financial Services]   \n",
       "15202       [Financial Services]   \n",
       "\n",
       "                                        Full Description  \n",
       "20787  DecisionSim is a simulation-based learning pla...  \n",
       "32243  ObjectWin Technology, Inc. is a leading inform...  \n",
       "29669  Mable is a mobile and web-based B2B wholesale ...  \n",
       "32302  Address: 2343 Weldon Pkwy, St Louis, MO 63146,...  \n",
       "21759  Lascaux Co. is focused on making art fun again...  \n",
       "30426  Brixey & Meyer is a registered accounting firm...  \n",
       "36697  The ERI Economic Research Institute, Inc., is ...  \n",
       "32456  Science Exchange is the world’s leading R&D Se...  \n",
       "12432  Morris Bank operates as a state-chartered comm...  \n",
       "15202  AA Auto Protection is insurance backed and one...  "
      ]
     },
     "execution_count": 15,
     "metadata": {},
     "output_type": "execute_result"
    }
   ],
   "source": [
    "df_reduced = df_reduced.append(df_two)\n",
    "df_reduced.sample(10)"
   ]
  },
  {
   "cell_type": "markdown",
   "id": "fc3e6c04",
   "metadata": {},
   "source": [
    "#### Convert list of Industry Groups and Industries columns back to string"
   ]
  },
  {
   "cell_type": "code",
   "execution_count": 16,
   "id": "fe7107f4",
   "metadata": {},
   "outputs": [],
   "source": [
    "# https://stackoverflow.com/questions/37347725/converting-a-panda-df-list-into-a-string/37347844\n",
    "df_reduced.loc[:,'Industries'] = df_reduced.loc[:,'Industries'].apply(', '.join)\n",
    "df_reduced.loc[:,'Industry Groups'] = df_reduced.loc[:,'Industry Groups'].apply(', '.join)"
   ]
  },
  {
   "cell_type": "markdown",
   "id": "265d9183",
   "metadata": {},
   "source": [
    "#### How many unique Industry Groups are there in our df_reduced dataset?"
   ]
  },
  {
   "cell_type": "code",
   "execution_count": 17,
   "id": "07c83422",
   "metadata": {},
   "outputs": [
    {
     "data": {
      "text/plain": [
       "array(['Manufacturing', 'Privacy and Security', 'Information Technology',\n",
       "       'Professional Services', 'Software', 'Education', 'Health Care',\n",
       "       'Travel and Tourism', 'Food and Beverage', 'Transportation',\n",
       "       'Clothing and Apparel', 'Real Estate', 'Administrative Services',\n",
       "       'Sales and Marketing', 'Internet Services', 'Financial Services',\n",
       "       'Commerce and Shopping', 'Energy', 'Sports', 'Other', 'Hardware',\n",
       "       'Data and Analytics', 'Design', 'Consumer Goods',\n",
       "       'Agriculture and Farming', 'Government and Military', 'Mobile',\n",
       "       'Media and Entertainment', 'Community and Lifestyle', 'Gaming',\n",
       "       'Apps', 'Sustainability', 'Science and Engineering',\n",
       "       'Natural Resources', 'Advertising', 'Content and Publishing',\n",
       "       'Biotechnology', 'Navigation and Mapping', 'Consumer Electronics',\n",
       "       'Events'], dtype=object)"
      ]
     },
     "execution_count": 17,
     "metadata": {},
     "output_type": "execute_result"
    }
   ],
   "source": [
    "df_reduced['Industry Groups'].unique()"
   ]
  },
  {
   "cell_type": "code",
   "execution_count": 18,
   "id": "815861be",
   "metadata": {},
   "outputs": [
    {
     "data": {
      "text/plain": [
       "40"
      ]
     },
     "execution_count": 18,
     "metadata": {},
     "output_type": "execute_result"
    }
   ],
   "source": [
    "len(df_reduced['Industry Groups'].unique())"
   ]
  },
  {
   "cell_type": "markdown",
   "id": "805cb4ff",
   "metadata": {},
   "source": [
    "There are 40 different Industry Groups represented in our training set df_reduced."
   ]
  },
  {
   "cell_type": "markdown",
   "id": "5e2551b2",
   "metadata": {},
   "source": [
    "#### How many unique Industries are there in our df_reduced dataset?"
   ]
  },
  {
   "cell_type": "code",
   "execution_count": 19,
   "id": "0f4d58ab",
   "metadata": {},
   "outputs": [
    {
     "data": {
      "text/plain": [
       "4398"
      ]
     },
     "execution_count": 19,
     "metadata": {},
     "output_type": "execute_result"
    }
   ],
   "source": [
    "len(df_reduced['Industries'].unique())"
   ]
  },
  {
   "cell_type": "markdown",
   "id": "bb470cd6",
   "metadata": {},
   "source": [
    "There are 4,398 different Industries in the dataset. A lot of this is due to overlapping and unparsed data, there's probably much fewer than that. But it still goes to show that **the Industry Groups is more general than the Industries column**.\n",
    "\n",
    "Looking at all of the unique industries that were extracted from companies with only a single industry classification from CrunchBase, it's obvious that there are some overlapping industry classifications that might make more sense to just cluster together at the outset of this project. \n",
    "\n",
    "It will likely take a bit of work to sort through all of these by hand and cluster them but it might be worth it. Maybe not. I don't know. For now, I'll leave it as is and keep on going."
   ]
  },
  {
   "cell_type": "code",
   "execution_count": 21,
   "id": "d9c14219",
   "metadata": {},
   "outputs": [
    {
     "data": {
      "text/plain": [
       "12031"
      ]
     },
     "execution_count": 21,
     "metadata": {},
     "output_type": "execute_result"
    }
   ],
   "source": [
    "len(df_reduced)"
   ]
  },
  {
   "cell_type": "code",
   "execution_count": 20,
   "id": "3d344ee8",
   "metadata": {},
   "outputs": [],
   "source": [
    "df_reduced.to_csv('2_df.csv')"
   ]
  }
 ],
 "metadata": {
  "kernelspec": {
   "display_name": "Python 3",
   "language": "python",
   "name": "python3"
  },
  "language_info": {
   "codemirror_mode": {
    "name": "ipython",
    "version": 3
   },
   "file_extension": ".py",
   "mimetype": "text/x-python",
   "name": "python",
   "nbconvert_exporter": "python",
   "pygments_lexer": "ipython3",
   "version": "3.7.7"
  }
 },
 "nbformat": 4,
 "nbformat_minor": 5
}
